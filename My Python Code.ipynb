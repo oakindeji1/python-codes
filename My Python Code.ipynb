{
 "cells": [
  {
   "cell_type": "code",
   "execution_count": 5,
   "id": "cb8c9b26-b82e-4452-84c1-9b04e7bd4615",
   "metadata": {},
   "outputs": [
    {
     "name": "stdout",
     "output_type": "stream",
     "text": [
      "Hello, World\n"
     ]
    }
   ],
   "source": [
    "print(\"Hello, World\")"
   ]
  },
  {
   "cell_type": "code",
   "execution_count": 9,
   "id": "724b0fde-830e-4f52-a01d-a86c1302c743",
   "metadata": {},
   "outputs": [
    {
     "name": "stdout",
     "output_type": "stream",
     "text": [
      "5\n"
     ]
    }
   ],
   "source": [
    "X=5\n",
    "print(X)"
   ]
  },
  {
   "cell_type": "code",
   "execution_count": 13,
   "id": "09516647-a4a1-4aa0-9b79-7f00ad033d12",
   "metadata": {},
   "outputs": [
    {
     "name": "stdout",
     "output_type": "stream",
     "text": [
      "2 Sola 20.3 [1] dayo {'name': 'Olu', 'age': 23}\n"
     ]
    }
   ],
   "source": [
    "a=2\n",
    "b=\"Sola\"\n",
    "c=20.3\n",
    "d=[1]\n",
    "e=(\"dayo\")\n",
    "f={\"name\":\"Olu\", \"age\":23}\n",
    "print(a,b,c,d,e,f)"
   ]
  },
  {
   "cell_type": "code",
   "execution_count": 15,
   "id": "40e7af50-96e6-455f-be8e-0667e26fd650",
   "metadata": {},
   "outputs": [
    {
     "name": "stdout",
     "output_type": "stream",
     "text": [
      "<class 'dict'>\n"
     ]
    }
   ],
   "source": [
    "print(type(f))"
   ]
  },
  {
   "cell_type": "code",
   "execution_count": 17,
   "id": "9bb0f954-ed0a-46d8-a993-f006d994e5b3",
   "metadata": {},
   "outputs": [
    {
     "ename": "NameError",
     "evalue": "name 'python' is not defined",
     "output_type": "error",
     "traceback": [
      "\u001b[1;31m---------------------------------------------------------------------------\u001b[0m",
      "\u001b[1;31mNameError\u001b[0m                                 Traceback (most recent call last)",
      "Cell \u001b[1;32mIn[17], line 1\u001b[0m\n\u001b[1;32m----> 1\u001b[0m python \u001b[38;5;241m-\u001b[39m\u001b[38;5;241m-\u001b[39mversion\n",
      "\u001b[1;31mNameError\u001b[0m: name 'python' is not defined"
     ]
    }
   ],
   "source": [
    "python --version"
   ]
  },
  {
   "cell_type": "code",
   "execution_count": 46,
   "id": "3e3c8dde-3b96-40be-8f42-b5c452daeecf",
   "metadata": {},
   "outputs": [
    {
     "name": "stdout",
     "output_type": "stream",
     "text": [
      "Five is greater than two!\n"
     ]
    }
   ],
   "source": [
    "if 5 > 2:\n",
    "  print(\"Five is greater than two!\")\n"
   ]
  },
  {
   "cell_type": "code",
   "execution_count": 60,
   "id": "810327a7-1874-47f6-a359-bd6e7cda1f10",
   "metadata": {},
   "outputs": [
    {
     "name": "stdout",
     "output_type": "stream",
     "text": [
      "8 is less than 3\n",
      "3 is less than 8\n"
     ]
    }
   ],
   "source": [
    "if 8>3:\n",
    "    print(\"8 is less than 3\")\n",
    "if 3<8:\n",
    "    print(\"3 is less than 8\")"
   ]
  },
  {
   "cell_type": "code",
   "execution_count": 62,
   "id": "6e6e42d8-dae5-490b-af75-fd2ca9b0e130",
   "metadata": {},
   "outputs": [],
   "source": [
    "#this is my comment"
   ]
  },
  {
   "cell_type": "code",
   "execution_count": 64,
   "id": "e79636b1-a36f-4b60-bcff-7a3083ba1aae",
   "metadata": {},
   "outputs": [
    {
     "name": "stdout",
     "output_type": "stream",
     "text": [
      "Hello, World!\n"
     ]
    }
   ],
   "source": [
    "\"\"\"\n",
    "This is a comment\n",
    "written in\n",
    "more than just one line\n",
    "\"\"\"\n",
    "print(\"Hello, World!\")"
   ]
  },
  {
   "cell_type": "code",
   "execution_count": 66,
   "id": "0268445a-f803-4002-a2f6-64d4ebab916b",
   "metadata": {},
   "outputs": [],
   "source": [
    "#CASTING"
   ]
  },
  {
   "cell_type": "code",
   "execution_count": 70,
   "id": "1fe4de5a-b54b-4954-b2c7-8ec3623d25c5",
   "metadata": {},
   "outputs": [
    {
     "name": "stdout",
     "output_type": "stream",
     "text": [
      "3 3 3.0\n",
      "<class 'int'>\n",
      "<class 'str'>\n"
     ]
    }
   ],
   "source": [
    "x = str(3)    # x will be '3'\n",
    "y = int(3)    # y will be 3\n",
    "z = float(3)  # z will be 3.0\n",
    "print(x,y,z)\n",
    "\n",
    "a = 5\n",
    "b = \"John\"\n",
    "print(type(a))\n",
    "print(type(b))"
   ]
  },
  {
   "cell_type": "code",
   "execution_count": 72,
   "id": "d37e615d-79ae-4759-81f8-1c3d8efb29ec",
   "metadata": {},
   "outputs": [
    {
     "name": "stdout",
     "output_type": "stream",
     "text": [
      "Orange\n",
      "Banana\n",
      "Cherry\n"
     ]
    }
   ],
   "source": [
    "x, y, z = \"Orange\", \"Banana\", \"Cherry\"\n",
    "print(x)\n",
    "print(y)\n",
    "print(z)"
   ]
  },
  {
   "cell_type": "code",
   "execution_count": 74,
   "id": "eb68a527-029f-4357-8011-bcce38339065",
   "metadata": {},
   "outputs": [
    {
     "name": "stdout",
     "output_type": "stream",
     "text": [
      "apple\n",
      "banana\n",
      "cherry\n"
     ]
    }
   ],
   "source": [
    "fruits = [\"apple\", \"banana\", \"cherry\"]\n",
    "x, y, z = fruits\n",
    "print(x)\n",
    "print(y)\n",
    "print(z)"
   ]
  },
  {
   "cell_type": "code",
   "execution_count": 80,
   "id": "7b0b501f-baa2-4940-b92c-95fd0c45ef84",
   "metadata": {},
   "outputs": [
    {
     "name": "stdout",
     "output_type": "stream",
     "text": [
      "the value of x is 6\n"
     ]
    }
   ],
   "source": [
    "x=3\n",
    "def myfun():\n",
    "    print(\"the value of x is\", x+3)\n",
    "myfun()"
   ]
  },
  {
   "cell_type": "code",
   "execution_count": 82,
   "id": "a5e02a46-9a11-40a3-85c7-edadfef0ca40",
   "metadata": {},
   "outputs": [
    {
     "name": "stdout",
     "output_type": "stream",
     "text": [
      "the value of x is 7\n"
     ]
    }
   ],
   "source": [
    "x=3\n",
    "def myfun():\n",
    "    x=4\n",
    "    print(\"the value of x is\", x+3)\n",
    "myfun()"
   ]
  },
  {
   "cell_type": "code",
   "execution_count": 92,
   "id": "30b5c195-f35c-4a78-8c39-24ca9245b9de",
   "metadata": {},
   "outputs": [
    {
     "name": "stdout",
     "output_type": "stream",
     "text": [
      "The value of x 9\n"
     ]
    }
   ],
   "source": [
    "x=10\n",
    "def myfunc():\n",
    "    global x\n",
    "    x=9\n",
    "myfunc()\n",
    "print(\"The value of x\", x)"
   ]
  },
  {
   "cell_type": "code",
   "execution_count": 104,
   "id": "e7561ea1-b388-4d03-ae0d-698ef9c97ad2",
   "metadata": {},
   "outputs": [
    {
     "name": "stdout",
     "output_type": "stream",
     "text": [
      "<class 'str'>\n",
      "<class 'int'>\n",
      "<class 'float'>\n",
      "<class 'complex'>\n",
      "<class 'list'>\n",
      "<class 'tuple'>\n",
      "<class 'range'>\n",
      "<class 'dict'>\n",
      "<class 'set'>\n",
      "<class 'frozenset'>\n",
      "<class 'bool'>\n",
      "<class 'bytes'>\n",
      "<class 'bytearray'>\n",
      "<class 'memoryview'>\n",
      "<class 'NoneType'>\n"
     ]
    }
   ],
   "source": [
    "a = \"Hello World\"\n",
    "b = 20\t\n",
    "c = 20.5\t\t\n",
    "d = 1j\t\n",
    "e = [\"apple\", \"banana\", \"cherry\"]\t\n",
    "f = (\"apple\", \"banana\", \"cherry\")\t\t\n",
    "g = range(6)\t\n",
    "h = {\"name\" : \"John\", \"age\" : 36}\t\n",
    "i = {\"apple\", \"banana\", \"cherry\"}\t\n",
    "j = frozenset({\"apple\", \"banana\", \"cherry\"})\t\n",
    "k = True\t\n",
    "l = b\"Hello\"\t\t\n",
    "m = bytearray(5)\t\t\n",
    "n = memoryview(bytes(5))\t\t\n",
    "o = None\n",
    "\n",
    "print(type(a))\n",
    "print(type(b))\n",
    "print(type(c))\n",
    "print(type(d))\n",
    "print(type(e))\n",
    "print(type(f))\n",
    "print(type(g))\n",
    "print(type(h))\n",
    "print(type(i))\n",
    "print(type(j))\n",
    "print(type(k))\n",
    "print(type(l))\n",
    "print(type(m))\n",
    "print(type(n))\n",
    "print(type(o))"
   ]
  },
  {
   "cell_type": "code",
   "execution_count": 13,
   "id": "cbfc32c0-daad-461b-988f-635758d06515",
   "metadata": {},
   "outputs": [
    {
     "name": "stdout",
     "output_type": "stream",
     "text": [
      "7\n"
     ]
    }
   ],
   "source": [
    "import random\n",
    "print(random.randrange(1, 10))"
   ]
  },
  {
   "cell_type": "code",
   "execution_count": null,
   "id": "1e455d28-9c37-4ee9-b01d-24fee7a82cd8",
   "metadata": {},
   "outputs": [],
   "source": [
    "#Multiline Strings\n"
   ]
  },
  {
   "cell_type": "code",
   "execution_count": 17,
   "id": "45bf3e86-8529-4190-b102-601241ff80bf",
   "metadata": {},
   "outputs": [
    {
     "name": "stdout",
     "output_type": "stream",
     "text": [
      "Lorem ipsum dolor sit amet,\n",
      "consectetur adipiscing elit,\n",
      "sed do eiusmod tempor incididunt\n",
      "ut labore et dolore magna aliqua.\n"
     ]
    }
   ],
   "source": [
    "a = \"\"\"Lorem ipsum dolor sit amet,\n",
    "consectetur adipiscing elit,\n",
    "sed do eiusmod tempor incididunt\n",
    "ut labore et dolore magna aliqua.\"\"\"\n",
    "print(a)\n",
    "\n"
   ]
  },
  {
   "cell_type": "code",
   "execution_count": 19,
   "id": "29fb1e83-66d3-4d66-a155-154557a747b7",
   "metadata": {},
   "outputs": [
    {
     "name": "stdout",
     "output_type": "stream",
     "text": [
      "e\n"
     ]
    }
   ],
   "source": [
    "a = \"Hello, World!\"\n",
    "print(a[1])"
   ]
  },
  {
   "cell_type": "code",
   "execution_count": 21,
   "id": "e3758b5b-329b-406b-b68a-87c113c603ab",
   "metadata": {},
   "outputs": [
    {
     "name": "stdout",
     "output_type": "stream",
     "text": [
      "b\n",
      "a\n",
      "n\n",
      "a\n",
      "n\n",
      "a\n"
     ]
    }
   ],
   "source": [
    "for x in \"banana\":\n",
    "  print(x)"
   ]
  },
  {
   "cell_type": "code",
   "execution_count": 23,
   "id": "154f5af8-e013-4184-a6d1-e7e61456a110",
   "metadata": {},
   "outputs": [
    {
     "name": "stdout",
     "output_type": "stream",
     "text": [
      "11\n"
     ]
    }
   ],
   "source": [
    "x = \"Hello World\"\n",
    "print(len(x))"
   ]
  },
  {
   "cell_type": "code",
   "execution_count": 29,
   "id": "72816629-b7cc-4725-b7c5-68b2bf6023dc",
   "metadata": {},
   "outputs": [
    {
     "name": "stdout",
     "output_type": "stream",
     "text": [
      "False\n"
     ]
    }
   ],
   "source": [
    "txt = \"This is a free Text\"\n",
    "print(\"frees\" in txt)"
   ]
  },
  {
   "cell_type": "code",
   "execution_count": 31,
   "id": "0b8c3016-3466-41cc-a227-ee4b59eb06ea",
   "metadata": {},
   "outputs": [
    {
     "name": "stdout",
     "output_type": "stream",
     "text": [
      "Yes, 'free' is present.\n"
     ]
    }
   ],
   "source": [
    "txt = \"The best things in life are free!\"\n",
    "if \"free\" in txt:\n",
    "  print(\"Yes, 'free' is present.\")"
   ]
  },
  {
   "cell_type": "code",
   "execution_count": 33,
   "id": "ce5d6142-e985-49da-9e21-2f7864767e85",
   "metadata": {},
   "outputs": [
    {
     "name": "stdout",
     "output_type": "stream",
     "text": [
      "True\n"
     ]
    }
   ],
   "source": [
    "txt = \"The best things in life are free!\"\n",
    "print(\"expensive\" not in txt)\n"
   ]
  },
  {
   "cell_type": "code",
   "execution_count": 35,
   "id": "47b3574c-a90f-4f87-bdc1-c67dfb0658a7",
   "metadata": {},
   "outputs": [
    {
     "name": "stdout",
     "output_type": "stream",
     "text": [
      "No, 'expensive' is NOT present.\n"
     ]
    }
   ],
   "source": [
    "txt = \"The best things in life are free!\"\n",
    "if \"expensive\" not in txt:\n",
    "  print(\"No, 'expensive' is NOT present.\")"
   ]
  },
  {
   "cell_type": "code",
   "execution_count": 37,
   "id": "2e1cc8e7-02fe-43f0-80ad-ca7c30e3b107",
   "metadata": {},
   "outputs": [],
   "source": [
    "#Slicing"
   ]
  },
  {
   "cell_type": "code",
   "execution_count": 39,
   "id": "4848e4d3-4ccf-4879-a0ce-4533ef66e141",
   "metadata": {},
   "outputs": [
    {
     "name": "stdout",
     "output_type": "stream",
     "text": [
      "llo\n"
     ]
    }
   ],
   "source": [
    "x=\"Hello World\"\n",
    "print(x[2:5])"
   ]
  },
  {
   "cell_type": "code",
   "execution_count": 41,
   "id": "7f9547d9-c370-438f-8b67-8d54ad85d4bd",
   "metadata": {},
   "outputs": [
    {
     "name": "stdout",
     "output_type": "stream",
     "text": [
      "Hello\n"
     ]
    }
   ],
   "source": [
    "x=\"Hello World\"\n",
    "print(x[:5])\n"
   ]
  },
  {
   "cell_type": "code",
   "execution_count": 43,
   "id": "ed7119e4-e417-4f81-a9f9-60d8ce71dae5",
   "metadata": {},
   "outputs": [
    {
     "name": "stdout",
     "output_type": "stream",
     "text": [
      "rld\n"
     ]
    }
   ],
   "source": [
    "x=\"Hello World\"\n",
    "print(x[8:])"
   ]
  },
  {
   "cell_type": "code",
   "execution_count": 51,
   "id": "6515539f-dae8-410b-85ba-be55a5414557",
   "metadata": {},
   "outputs": [
    {
     "name": "stdout",
     "output_type": "stream",
     "text": [
      "orl\n"
     ]
    }
   ],
   "source": [
    "x=\"Hello World\"\n",
    "print(x[-4:-1])"
   ]
  },
  {
   "cell_type": "code",
   "execution_count": 53,
   "id": "9ff2e75a-72c6-41c2-b047-c2dc4d428073",
   "metadata": {},
   "outputs": [
    {
     "name": "stdout",
     "output_type": "stream",
     "text": [
      "orld\n"
     ]
    }
   ],
   "source": [
    "x=\"Hello World\"\n",
    "print(x[-4:])"
   ]
  },
  {
   "cell_type": "code",
   "execution_count": 55,
   "id": "b50d5d83-8698-40ac-83d1-aa70a5274ca7",
   "metadata": {},
   "outputs": [
    {
     "name": "stdout",
     "output_type": "stream",
     "text": [
      "Hello \n"
     ]
    }
   ],
   "source": [
    "x=\"Hello World\"\n",
    "print(x[:-5])"
   ]
  },
  {
   "cell_type": "code",
   "execution_count": 57,
   "id": "a9040f7d-03bb-44d6-a4fa-7b602c460e21",
   "metadata": {},
   "outputs": [
    {
     "name": "stdout",
     "output_type": "stream",
     "text": [
      "HELLO WORLD\n"
     ]
    }
   ],
   "source": [
    "x=\"hello world\"\n",
    "print(x.upper())"
   ]
  },
  {
   "cell_type": "code",
   "execution_count": 59,
   "id": "c4e32085-a7c9-4388-9de1-aa854dde5753",
   "metadata": {},
   "outputs": [
    {
     "name": "stdout",
     "output_type": "stream",
     "text": [
      "hello world\n"
     ]
    }
   ],
   "source": [
    "x=\"HELLO world\"\n",
    "print(x.lower())"
   ]
  },
  {
   "cell_type": "code",
   "execution_count": 61,
   "id": "2fe8c7de-1474-4409-8412-8e9c97cbbacf",
   "metadata": {},
   "outputs": [
    {
     "name": "stdout",
     "output_type": "stream",
     "text": [
      "Hello, World!\n"
     ]
    }
   ],
   "source": [
    "a = \" Hello, World! \"\n",
    "print(a.strip()) # Remove unwanted space\""
   ]
  },
  {
   "cell_type": "code",
   "execution_count": 63,
   "id": "91fbc165-8a0d-4420-95fc-211a838235ed",
   "metadata": {},
   "outputs": [
    {
     "name": "stdout",
     "output_type": "stream",
     "text": [
      "Jello, World!\n"
     ]
    }
   ],
   "source": [
    "a = \"Hello, World!\"\n",
    "print(a.replace(\"H\", \"J\"))"
   ]
  },
  {
   "cell_type": "code",
   "execution_count": 65,
   "id": "d2fa5be1-9330-4f45-94d9-1fbb7d9b5c86",
   "metadata": {},
   "outputs": [
    {
     "name": "stdout",
     "output_type": "stream",
     "text": [
      "['Hello', ' World!']\n"
     ]
    }
   ],
   "source": [
    "a = \"Hello, World!\"\n",
    "print(a.split(\",\")) # returns ['Hello', ' World!']"
   ]
  },
  {
   "cell_type": "code",
   "execution_count": 77,
   "id": "69225f80-ba6c-4c25-9395-6faedff5cdbc",
   "metadata": {},
   "outputs": [
    {
     "name": "stdout",
     "output_type": "stream",
     "text": [
      "Hello World 2\n"
     ]
    }
   ],
   "source": [
    "a = \"Hello\"\n",
    "b = \"World\"\n",
    "x = \"2\"\n",
    "c = a + \" \" + b + \" \" + x\n",
    "print(c)"
   ]
  },
  {
   "cell_type": "code",
   "execution_count": 149,
   "id": "1c3fe5f0-4450-4f1a-b6ec-90045d3531a5",
   "metadata": {},
   "outputs": [
    {
     "name": "stdout",
     "output_type": "stream",
     "text": [
      "My name is Ola and age is 36\n",
      "The price is 59.00 dollars\n",
      "The price is 1180 dollars\n",
      "Hello, and welcome to my world.\n",
      "1234\n",
      "       banana       \n",
      "OOOOOOObananaOOOOOOO\n",
      "2\n",
      "b'My name is St\\xc3\\xa5le'\n",
      "True\n",
      "True\n",
      "H e l l o\n",
      "H\te\tl\tl\to\n",
      "H       e       l       l       o\n",
      "H e l l o\n",
      "H   e   l   l   o\n",
      "H         e         l         l         o\n",
      "7\n",
      "12\n",
      "7\n",
      "13\n",
      "1\n",
      "1\n",
      "True\n",
      "True\n",
      "John#Peter#Vicky\n",
      "nameTESTcountry\n"
     ]
    }
   ],
   "source": [
    "#Placeholders and Modifiers\n",
    "age =36\n",
    "txt8 = f\"My name is Ola and age is {age}\"\n",
    "print(txt8)\n",
    "\n",
    "price = 59\n",
    "txt7 = f\"The price is {price:.2f} dollars\"\n",
    "print(txt7)\n",
    "\n",
    "txt6 = f\"The price is {20 * 59} dollars\"\n",
    "print(txt6)\n",
    "\n",
    "txt5 = \"hello, and welcome to my world.\"\n",
    "x5 = txt5.capitalize()\n",
    "print (x5)\n",
    "\n",
    "txt4 = \"Hello, And Welcome To My World!\"\n",
    "x4 = txt.casefold()\n",
    "print(x4)\n",
    "\n",
    "\n",
    "txt3 = \"banana\"\n",
    "x3 = txt3.center(20)\n",
    "print(x3)\n",
    "\n",
    "txt = \"banana\"\n",
    "txt1 = \"I love apples, apple are my favorite fruit\"\n",
    "x = txt1.count(\"apple\")\n",
    "x1 = txt.center(20, \"O\")\n",
    "print(x1)\n",
    "print(x)\n",
    "\n",
    "txta = \"My name is Ståle\"\n",
    "xa = txta.encode()\n",
    "print(xa)\n",
    "\n",
    "txtb = \"Hello, welcome to my world.\"\n",
    "xb = txtb.endswith(\".\")\n",
    "print(xb)\n",
    "\n",
    "txtc = \"Hello, welcome to my world.\"\n",
    "xc = txtc.endswith(\"my world.\")\n",
    "print(xc)\n",
    "\n",
    "txtd = \"H\\te\\tl\\tl\\to\"\n",
    "xd =  txtd.expandtabs(2)\n",
    "print(xd)\n",
    "\n",
    "\n",
    "txte = \"H\\te\\tl\\tl\\to\"\n",
    "\n",
    "print(txte)\n",
    "print(txte.expandtabs())\n",
    "print(txte.expandtabs(2))\n",
    "print(txte.expandtabs(4))\n",
    "print(txte.expandtabs(10))\n",
    "\n",
    "\n",
    "txtf = \"Hello, welcome to my world.\"\n",
    "xf = txtf.find(\"welcome\")\n",
    "print(xf)\n",
    "\n",
    "#rfind\n",
    "txt = \"Mi casa, su casa.\"\n",
    "x = txt.rfind(\"casa\")\n",
    "print(x)\n",
    "\n",
    "\n",
    "txtg = \"Hello, welcome to my world.\"\n",
    "xg = txtg.find(\"welcome\")\n",
    "print(xg)\n",
    "\n",
    "txt = \"Hello, welcome to my world.\"\n",
    "x = txt.find(\"e\", 9, 20)\n",
    "print(x)\n",
    "\n",
    "txts = \"Hello, welcome to my world.\"\n",
    "\n",
    "print(txts.find(\"e\"))\n",
    "print(txts.index(\"e\"))\n",
    "\n",
    "\n",
    "txt = \"Company12\"\n",
    "x = txt.isalnum()\n",
    "print(x)\n",
    "\n",
    "txt = \"1234\"\n",
    "x = txt.isdecimal()\n",
    "print(x)\n",
    "\n",
    "\n",
    "myTuple = (\"John\", \"Peter\", \"Vicky\")\n",
    "x = \"#\".join(myTuple)\n",
    "print(x)\n",
    "\n",
    "\n",
    "myDict = {\"name\": \"John\", \"country\": \"Norway\"}\n",
    "mySeparator = \"TEST\"\n",
    "x = mySeparator.join(myDict)\n",
    "print(x)\n"
   ]
  },
  {
   "cell_type": "code",
   "execution_count": 5,
   "id": "4f8a86b3-2fe3-4120-a88a-0ee73d05ae50",
   "metadata": {},
   "outputs": [
    {
     "data": {
      "text/plain": [
       "True"
      ]
     },
     "execution_count": 5,
     "metadata": {},
     "output_type": "execute_result"
    }
   ],
   "source": [
    "not True\n",
    "\n"
   ]
  },
  {
   "cell_type": "code",
   "execution_count": 7,
   "id": "58bcc785-4703-4af5-8925-6e17e41182dd",
   "metadata": {},
   "outputs": [
    {
     "data": {
      "text/plain": [
       "True"
      ]
     },
     "execution_count": 7,
     "metadata": {},
     "output_type": "execute_result"
    }
   ],
   "source": [
    "True or False"
   ]
  },
  {
   "cell_type": "code",
   "execution_count": 9,
   "id": "93772ee9-a82c-41a9-afae-a949248abf00",
   "metadata": {},
   "outputs": [],
   "source": [
    "x=3*3"
   ]
  },
  {
   "cell_type": "code",
   "execution_count": 11,
   "id": "44b5d836-3a70-4b8b-a28d-d4bfa4a8d80f",
   "metadata": {},
   "outputs": [
    {
     "data": {
      "text/plain": [
       "9"
      ]
     },
     "execution_count": 11,
     "metadata": {},
     "output_type": "execute_result"
    }
   ],
   "source": [
    "x"
   ]
  },
  {
   "cell_type": "code",
   "execution_count": 13,
   "id": "576e0347-645b-4905-8c9e-dce28d23156e",
   "metadata": {},
   "outputs": [],
   "source": [
    "x=3+2"
   ]
  },
  {
   "cell_type": "code",
   "execution_count": 15,
   "id": "ba00109d-1543-4f4b-b58e-19ec82d013f2",
   "metadata": {},
   "outputs": [
    {
     "data": {
      "text/plain": [
       "5"
      ]
     },
     "execution_count": 15,
     "metadata": {},
     "output_type": "execute_result"
    }
   ],
   "source": [
    "x"
   ]
  },
  {
   "cell_type": "code",
   "execution_count": 17,
   "id": "4634d4e4-9f45-45be-80e2-f9c0a2afde5f",
   "metadata": {},
   "outputs": [],
   "source": [
    "x=8\n"
   ]
  },
  {
   "cell_type": "code",
   "execution_count": 19,
   "id": "f45b711c-1ea7-426c-829b-795a0eaa5d0f",
   "metadata": {},
   "outputs": [],
   "source": [
    "y=3"
   ]
  },
  {
   "cell_type": "code",
   "execution_count": 21,
   "id": "eff8a364-4fe0-4d0b-be0d-613856c5cf36",
   "metadata": {},
   "outputs": [],
   "source": [
    "z=x-y"
   ]
  },
  {
   "cell_type": "code",
   "execution_count": 23,
   "id": "4eaffadd-4c0d-4dba-b9a0-89ed36ae944d",
   "metadata": {},
   "outputs": [
    {
     "data": {
      "text/plain": [
       "5"
      ]
     },
     "execution_count": 23,
     "metadata": {},
     "output_type": "execute_result"
    }
   ],
   "source": [
    "z"
   ]
  },
  {
   "cell_type": "code",
   "execution_count": 25,
   "id": "f7a41c6e-a26d-43d9-b25e-6f507487eede",
   "metadata": {},
   "outputs": [],
   "source": [
    "a=x+y"
   ]
  },
  {
   "cell_type": "code",
   "execution_count": 27,
   "id": "4713c999-f201-4c10-86f0-0c3b683684f3",
   "metadata": {},
   "outputs": [
    {
     "data": {
      "text/plain": [
       "11"
      ]
     },
     "execution_count": 27,
     "metadata": {},
     "output_type": "execute_result"
    }
   ],
   "source": [
    "a"
   ]
  },
  {
   "cell_type": "code",
   "execution_count": 29,
   "id": "3b8ae545-70f6-42f9-9dac-86683a7a8837",
   "metadata": {},
   "outputs": [],
   "source": [
    "sound =\"cluck\""
   ]
  },
  {
   "cell_type": "code",
   "execution_count": 31,
   "id": "ffdec9eb-94e3-40ce-b997-0428c27e602c",
   "metadata": {},
   "outputs": [
    {
     "data": {
      "text/plain": [
       "'cluck'"
      ]
     },
     "execution_count": 31,
     "metadata": {},
     "output_type": "execute_result"
    }
   ],
   "source": [
    "sound"
   ]
  },
  {
   "cell_type": "code",
   "execution_count": 33,
   "id": "f15cdf83-e0dd-4772-9e64-0357dde82c2f",
   "metadata": {},
   "outputs": [],
   "source": [
    "sound='moo'"
   ]
  },
  {
   "cell_type": "code",
   "execution_count": 37,
   "id": "2a6ceeef-9c69-4243-aebb-c5572d525b45",
   "metadata": {},
   "outputs": [
    {
     "data": {
      "text/plain": [
       "'moo'"
      ]
     },
     "execution_count": 37,
     "metadata": {},
     "output_type": "execute_result"
    }
   ],
   "source": [
    "sound"
   ]
  },
  {
   "cell_type": "code",
   "execution_count": 45,
   "id": "1b7babec-a217-4f33-bf96-b59e2c60a3fc",
   "metadata": {},
   "outputs": [],
   "source": [
    "x=\"and she said \\\"Yum!\\\"\""
   ]
  },
  {
   "cell_type": "code",
   "execution_count": 47,
   "id": "667f78f8-7775-488a-8ed5-9034b0c990e5",
   "metadata": {},
   "outputs": [
    {
     "data": {
      "text/plain": [
       "'and she said \"Yum!\"'"
      ]
     },
     "execution_count": 47,
     "metadata": {},
     "output_type": "execute_result"
    }
   ],
   "source": [
    "x"
   ]
  },
  {
   "cell_type": "code",
   "execution_count": 49,
   "id": "71773bc0-5b1a-42f1-88ef-fc5d3010658f",
   "metadata": {},
   "outputs": [],
   "source": [
    "quote = 'and I said, \"Ew!\"'"
   ]
  },
  {
   "cell_type": "code",
   "execution_count": 51,
   "id": "a3fdb494-9613-44a6-a255-3248ca6a302a",
   "metadata": {},
   "outputs": [
    {
     "data": {
      "text/plain": [
       "'and I said, \"Ew!\"'"
      ]
     },
     "execution_count": 51,
     "metadata": {},
     "output_type": "execute_result"
    }
   ],
   "source": [
    "quote"
   ]
  },
  {
   "cell_type": "code",
   "execution_count": 53,
   "id": "7d7010ad-b18b-42c4-ac3e-5c313cf552f2",
   "metadata": {},
   "outputs": [],
   "source": [
    "quote = \"Euh, 'merrppp'\""
   ]
  },
  {
   "cell_type": "code",
   "execution_count": 55,
   "id": "a29871e6-5790-4588-97f2-350baf79e271",
   "metadata": {},
   "outputs": [
    {
     "data": {
      "text/plain": [
       "\"Euh, 'merrppp'\""
      ]
     },
     "execution_count": 55,
     "metadata": {},
     "output_type": "execute_result"
    }
   ],
   "source": [
    "quote"
   ]
  },
  {
   "cell_type": "code",
   "execution_count": 71,
   "id": "9b93fe50-7faa-46ac-aafb-74dd3e5ac7f8",
   "metadata": {},
   "outputs": [
    {
     "data": {
      "text/plain": [
       "True"
      ]
     },
     "execution_count": 71,
     "metadata": {},
     "output_type": "execute_result"
    }
   ],
   "source": [
    "b=x\n",
    "x==8\n"
   ]
  },
  {
   "cell_type": "code",
   "execution_count": 73,
   "id": "4012ab70-c261-4b71-9c92-87939cd4738c",
   "metadata": {},
   "outputs": [],
   "source": [
    "c=x>5"
   ]
  },
  {
   "cell_type": "code",
   "execution_count": 75,
   "id": "f128f5f5-3ae3-4716-9ba7-a03761a83a42",
   "metadata": {},
   "outputs": [
    {
     "data": {
      "text/plain": [
       "True"
      ]
     },
     "execution_count": 75,
     "metadata": {},
     "output_type": "execute_result"
    }
   ],
   "source": [
    "c"
   ]
  },
  {
   "cell_type": "code",
   "execution_count": 77,
   "id": "0cc01f1e-44f5-4279-8061-13374576bcb9",
   "metadata": {},
   "outputs": [],
   "source": [
    "d = sound == \"moo\""
   ]
  },
  {
   "cell_type": "code",
   "execution_count": 79,
   "id": "1f885716-d7b4-4c41-868e-21c733313a85",
   "metadata": {},
   "outputs": [
    {
     "data": {
      "text/plain": [
       "True"
      ]
     },
     "execution_count": 79,
     "metadata": {},
     "output_type": "execute_result"
    }
   ],
   "source": [
    "d"
   ]
  },
  {
   "cell_type": "code",
   "execution_count": 81,
   "id": "86ca549c-f682-4f58-b4a3-af7cc985ec3c",
   "metadata": {},
   "outputs": [],
   "source": [
    "e = sound == \"yuck\""
   ]
  },
  {
   "cell_type": "code",
   "execution_count": 83,
   "id": "4e2cb08c-d9a1-4235-a2be-a4e3365697f7",
   "metadata": {},
   "outputs": [
    {
     "data": {
      "text/plain": [
       "False"
      ]
     },
     "execution_count": 83,
     "metadata": {},
     "output_type": "execute_result"
    }
   ],
   "source": [
    "e"
   ]
  },
  {
   "cell_type": "code",
   "execution_count": 89,
   "id": "b1091dc5-8b32-4378-89f3-f369ed03eb7c",
   "metadata": {},
   "outputs": [],
   "source": [
    "f = x == 8 and sound == \"yuck\""
   ]
  },
  {
   "cell_type": "code",
   "execution_count": 91,
   "id": "2b36c55a-0ed7-43a3-a7c7-c3a477329058",
   "metadata": {},
   "outputs": [
    {
     "data": {
      "text/plain": [
       "False"
      ]
     },
     "execution_count": 91,
     "metadata": {},
     "output_type": "execute_result"
    }
   ],
   "source": [
    "f"
   ]
  },
  {
   "cell_type": "code",
   "execution_count": 93,
   "id": "4e9a5998-2c66-4596-968f-9c3924d72600",
   "metadata": {},
   "outputs": [],
   "source": [
    "g = x == 5 and sound == \"moo\""
   ]
  },
  {
   "cell_type": "code",
   "execution_count": 95,
   "id": "8593a890-1d59-4426-bdbf-7a8e5b0ca216",
   "metadata": {},
   "outputs": [
    {
     "data": {
      "text/plain": [
       "False"
      ]
     },
     "execution_count": 95,
     "metadata": {},
     "output_type": "execute_result"
    }
   ],
   "source": [
    "g"
   ]
  },
  {
   "cell_type": "code",
   "execution_count": 97,
   "id": "abb00ddc-8a31-48a6-8b1c-2a6d4d8814a4",
   "metadata": {},
   "outputs": [],
   "source": [
    "#Functions"
   ]
  },
  {
   "cell_type": "code",
   "execution_count": 99,
   "id": "3c7a78f5-afa3-4399-9f86-d489caf6bfff",
   "metadata": {},
   "outputs": [
    {
     "data": {
      "text/plain": [
       "5"
      ]
     },
     "execution_count": 99,
     "metadata": {},
     "output_type": "execute_result"
    }
   ],
   "source": [
    "abs(-5)"
   ]
  },
  {
   "cell_type": "code",
   "execution_count": 101,
   "id": "ac0420d6-b1be-4755-93f7-0a287db4b0a9",
   "metadata": {},
   "outputs": [
    {
     "data": {
      "text/plain": [
       "3.14"
      ]
     },
     "execution_count": 101,
     "metadata": {},
     "output_type": "execute_result"
    }
   ],
   "source": [
    "abs(-3.14)"
   ]
  },
  {
   "cell_type": "code",
   "execution_count": 129,
   "id": "59177dfa-c681-4ccf-a9df-453a3005bcc6",
   "metadata": {},
   "outputs": [
    {
     "data": {
      "text/plain": [
       "1"
      ]
     },
     "execution_count": 129,
     "metadata": {},
     "output_type": "execute_result"
    }
   ],
   "source": [
    "round(1.2)"
   ]
  },
  {
   "cell_type": "code",
   "execution_count": 162,
   "id": "93be791c-ca08-431a-bc5c-97462f5af710",
   "metadata": {},
   "outputs": [
    {
     "name": "stdout",
     "output_type": "stream",
     "text": [
      "12.35\n",
      "233.64\n"
     ]
    }
   ],
   "source": [
    "print(round(12.345, 2))\n",
    "print(round(ndigits = 2, number = 233.643))"
   ]
  },
  {
   "cell_type": "code",
   "execution_count": 131,
   "id": "d0763e66-be95-4676-b500-14935b14e1b2",
   "metadata": {},
   "outputs": [
    {
     "data": {
      "text/plain": [
       "7"
      ]
     },
     "execution_count": 131,
     "metadata": {},
     "output_type": "execute_result"
    }
   ],
   "source": [
    "max(7,3)"
   ]
  },
  {
   "cell_type": "code",
   "execution_count": 133,
   "id": "6f716325-8649-4558-bb39-5199ae314d8c",
   "metadata": {},
   "outputs": [],
   "source": [
    "from time import time"
   ]
  },
  {
   "cell_type": "code",
   "execution_count": 135,
   "id": "361ddb9c-7695-4aba-9fde-5c320d37c43f",
   "metadata": {},
   "outputs": [
    {
     "data": {
      "text/plain": [
       "1738448792.9086928"
      ]
     },
     "execution_count": 135,
     "metadata": {},
     "output_type": "execute_result"
    }
   ],
   "source": [
    "time()"
   ]
  },
  {
   "cell_type": "code",
   "execution_count": 137,
   "id": "ccbbd848-368c-4cf5-9d60-19c368357f83",
   "metadata": {},
   "outputs": [
    {
     "data": {
      "text/plain": [
       "1738448793.2841399"
      ]
     },
     "execution_count": 137,
     "metadata": {},
     "output_type": "execute_result"
    }
   ],
   "source": [
    "time()"
   ]
  },
  {
   "cell_type": "code",
   "execution_count": 139,
   "id": "dd0040c9-bcf8-4e95-acda-823f34576c37",
   "metadata": {},
   "outputs": [],
   "source": [
    "seconds = time()"
   ]
  },
  {
   "cell_type": "code",
   "execution_count": 141,
   "id": "1a555cab-0bc2-42b9-b44f-99cb10b8d26d",
   "metadata": {},
   "outputs": [],
   "source": [
    "minutes = seconds/60"
   ]
  },
  {
   "cell_type": "code",
   "execution_count": 143,
   "id": "0df66073-ca24-4961-80ec-d563fbe5b82a",
   "metadata": {},
   "outputs": [],
   "source": [
    "hours = minutes/60"
   ]
  },
  {
   "cell_type": "code",
   "execution_count": 145,
   "id": "2d72d684-856a-428b-859f-a405bc7ecbdd",
   "metadata": {},
   "outputs": [],
   "source": [
    "days = hours/24"
   ]
  },
  {
   "cell_type": "code",
   "execution_count": 147,
   "id": "617b4048-5c66-4a96-9855-80e2c26b6ce5",
   "metadata": {},
   "outputs": [],
   "source": [
    "years = days/365"
   ]
  },
  {
   "cell_type": "code",
   "execution_count": 149,
   "id": "8742a44b-c725-48d9-b22e-cd852c2c0682",
   "metadata": {},
   "outputs": [
    {
     "data": {
      "text/plain": [
       "20120.935112118063"
      ]
     },
     "execution_count": 149,
     "metadata": {},
     "output_type": "execute_result"
    }
   ],
   "source": [
    "days"
   ]
  },
  {
   "cell_type": "code",
   "execution_count": 151,
   "id": "dec723d5-f51b-40ee-a90e-d3b335f83197",
   "metadata": {},
   "outputs": [
    {
     "data": {
      "text/plain": [
       "55.12584962224127"
      ]
     },
     "execution_count": 151,
     "metadata": {},
     "output_type": "execute_result"
    }
   ],
   "source": [
    "years"
   ]
  },
  {
   "cell_type": "code",
   "execution_count": 170,
   "id": "00de0202-a4c9-4e36-b246-b6d67c600015",
   "metadata": {},
   "outputs": [
    {
     "name": "stdin",
     "output_type": "stream",
     "text": [
      "JPY:  1000\n"
     ]
    },
    {
     "name": "stdout",
     "output_type": "stream",
     "text": [
      "1000\n"
     ]
    }
   ],
   "source": [
    "text = input(\"JPY: \")\n",
    "print(text)\n",
    "\n"
   ]
  },
  {
   "cell_type": "code",
   "execution_count": 172,
   "id": "0e68dbc6-43d9-47ae-933b-d94ce920c86b",
   "metadata": {},
   "outputs": [
    {
     "name": "stdin",
     "output_type": "stream",
     "text": [
      "JPY:  3000\n"
     ]
    },
    {
     "name": "stdout",
     "output_type": "stream",
     "text": [
      "19.27\n"
     ]
    }
   ],
   "source": [
    "text = input(\"JPY: \")\n",
    "jpy = int(text)\n",
    "usd = jpy/155.68\n",
    "usd = round(usd, 2)\n",
    "print(usd)"
   ]
  },
  {
   "cell_type": "code",
   "execution_count": 4,
   "id": "72146bcb-6f9a-4d07-8a2c-8aee6e14f016",
   "metadata": {},
   "outputs": [],
   "source": [
    "#Reading from Website\n",
    "from requests import get\n",
    "responce= get(\"https://alvinwan.com/coding101/pikachu/\")\n"
   ]
  },
  {
   "cell_type": "code",
   "execution_count": 6,
   "id": "f15d980a-7fdf-4332-81af-955989ccee30",
   "metadata": {},
   "outputs": [
    {
     "data": {
      "text/plain": [
       "<Response [200]>"
      ]
     },
     "execution_count": 6,
     "metadata": {},
     "output_type": "execute_result"
    }
   ],
   "source": [
    "responce"
   ]
  },
  {
   "cell_type": "code",
   "execution_count": 8,
   "id": "ab0c89f7-40dc-4a40-a5bf-470fa8ebe891",
   "metadata": {},
   "outputs": [
    {
     "data": {
      "text/plain": [
       "'⢀⣠⣾⣿⣿⣿⣿⣿⣿⣿⣿⣿⣿⣿⣿⣿⣿⣿⣿⣿⣿⣿⠀⠀⠀⠀⣠⣤⣶⣶\\n⣿⣿⣿⣿⣿⣿⣿⣿⣿⣿⣿⣿⣿⣿⣿⣿⣿⣿⣿⣿⣿⣿⠀⠀⠀⢰⣿⣿⣿⣿\\n⣿⣿⣿⣿⣿⣿⣿⣿⣿⣿⣿⣿⣿⣿⣿⣿⣿⣿⣿⣿⣿⣿⣧⣀⣀⣾⣿⣿⣿⣿\\n⣿⣿⣿⣿⣿⡏⠉⠛⢿⣿⣿⣿⣿⣿⣿⣿⣿⣿⣿⣿⣿⣿⣿⣿⣿⣿⣿⣿⡿⣿\\n⣿⣿⣿⣿⣿⣿⠀⠀⠀⠈⠛⢿⣿⣿⣿⣿⣿⣿⣿⣿⣿⣿⣿⣿⠿⠛⠉⠁⠀⣿\\n⣿⣿⣿⣿⣿⣿⣧⡀⠀⠀⠀⠀⠙⠿⠿⠿⠻⠿⠿⠟⠿⠛⠉⠀⠀⠀⠀⠀⣸⣿\\n⣿⣿⣿⣿⣿⣿⣿⣷⣄⠀⡀⠀⠀⠀⠀⠀⠀⠀⠀⠀⠀⠀⠀⠀⠀⠀⢀⣴⣿⣿\\n⣿⣿⣿⣿⣿⣿⣿⣿⣿⠏⠀⠀⠀⠀⠀⠀⠀⠀⠀⠀⠀⠀⠀⠀⠠⣴⣿⣿⣿⣿\\n⣿⣿⣿⣿⣿⣿⣿⣿⡟⠀⠀⢰⣹⡆⠀⠀⠀⠀⠀⠀⣭⣷⠀⠀⠀⠸⣿⣿⣿⣿\\n⣿⣿⣿⣿⣿⣿⣿⣿⠃⠀⠀⠈⠉⠀⠀⠤⠄⠀⠀⠀⠉⠁⠀⠀⠀⠀⢿⣿⣿⣿\\n⣿⣿⣿⣿⣿⣿⣿⣿⢾⣿⣷⠀⠀⠀⠀⡠⠤⢄⠀⠀⠀⠠⣿⣿⣷⠀⢸⣿⣿⣿\\n⣿⣿⣿⣿⣿⣿⣿⣿⡀⠉⠀⠀⠀⠀⠀⢄⠀⢀⠀⠀⠀⠀⠉⠉⠁⠀⠀⣿⣿⣿\\n⣿⣿⣿⣿⣿⣿⣿⣿⣧⠀⠀⠀⠀⠀⠀⠀⠈⠀⠀⠀⠀⠀⠀⠀⠀⠀⠀⢹⣿⣿\\n⣿⣿⣿⣿⣿⣿⣿⣿⣿⠃⠀⠀⠀⠀⠀⠀⠀⠀⠀⠀⠀⠀⠀⠀⠀⠀⠀⢸⣿⣿\\n'"
      ]
     },
     "execution_count": 8,
     "metadata": {},
     "output_type": "execute_result"
    }
   ],
   "source": [
    "responce.text"
   ]
  },
  {
   "cell_type": "code",
   "execution_count": 10,
   "id": "7d69a48c-a7ad-4e7f-9102-5f82a1d96d80",
   "metadata": {},
   "outputs": [
    {
     "name": "stdout",
     "output_type": "stream",
     "text": [
      "⢀⣠⣾⣿⣿⣿⣿⣿⣿⣿⣿⣿⣿⣿⣿⣿⣿⣿⣿⣿⣿⣿⠀⠀⠀⠀⣠⣤⣶⣶\n",
      "⣿⣿⣿⣿⣿⣿⣿⣿⣿⣿⣿⣿⣿⣿⣿⣿⣿⣿⣿⣿⣿⣿⠀⠀⠀⢰⣿⣿⣿⣿\n",
      "⣿⣿⣿⣿⣿⣿⣿⣿⣿⣿⣿⣿⣿⣿⣿⣿⣿⣿⣿⣿⣿⣿⣧⣀⣀⣾⣿⣿⣿⣿\n",
      "⣿⣿⣿⣿⣿⡏⠉⠛⢿⣿⣿⣿⣿⣿⣿⣿⣿⣿⣿⣿⣿⣿⣿⣿⣿⣿⣿⣿⡿⣿\n",
      "⣿⣿⣿⣿⣿⣿⠀⠀⠀⠈⠛⢿⣿⣿⣿⣿⣿⣿⣿⣿⣿⣿⣿⣿⠿⠛⠉⠁⠀⣿\n",
      "⣿⣿⣿⣿⣿⣿⣧⡀⠀⠀⠀⠀⠙⠿⠿⠿⠻⠿⠿⠟⠿⠛⠉⠀⠀⠀⠀⠀⣸⣿\n",
      "⣿⣿⣿⣿⣿⣿⣿⣷⣄⠀⡀⠀⠀⠀⠀⠀⠀⠀⠀⠀⠀⠀⠀⠀⠀⠀⢀⣴⣿⣿\n",
      "⣿⣿⣿⣿⣿⣿⣿⣿⣿⠏⠀⠀⠀⠀⠀⠀⠀⠀⠀⠀⠀⠀⠀⠀⠠⣴⣿⣿⣿⣿\n",
      "⣿⣿⣿⣿⣿⣿⣿⣿⡟⠀⠀⢰⣹⡆⠀⠀⠀⠀⠀⠀⣭⣷⠀⠀⠀⠸⣿⣿⣿⣿\n",
      "⣿⣿⣿⣿⣿⣿⣿⣿⠃⠀⠀⠈⠉⠀⠀⠤⠄⠀⠀⠀⠉⠁⠀⠀⠀⠀⢿⣿⣿⣿\n",
      "⣿⣿⣿⣿⣿⣿⣿⣿⢾⣿⣷⠀⠀⠀⠀⡠⠤⢄⠀⠀⠀⠠⣿⣿⣷⠀⢸⣿⣿⣿\n",
      "⣿⣿⣿⣿⣿⣿⣿⣿⡀⠉⠀⠀⠀⠀⠀⢄⠀⢀⠀⠀⠀⠀⠉⠉⠁⠀⠀⣿⣿⣿\n",
      "⣿⣿⣿⣿⣿⣿⣿⣿⣧⠀⠀⠀⠀⠀⠀⠀⠈⠀⠀⠀⠀⠀⠀⠀⠀⠀⠀⢹⣿⣿\n",
      "⣿⣿⣿⣿⣿⣿⣿⣿⣿⠃⠀⠀⠀⠀⠀⠀⠀⠀⠀⠀⠀⠀⠀⠀⠀⠀⠀⢸⣿⣿\n",
      "\n"
     ]
    }
   ],
   "source": [
    "print(responce.text)"
   ]
  },
  {
   "cell_type": "code",
   "execution_count": 14,
   "id": "e8b61bbd-10a5-411b-b62b-d9245d44fddb",
   "metadata": {},
   "outputs": [
    {
     "data": {
      "text/plain": [
       "<_io.TextIOWrapper name='test.txt' mode='w' encoding='cp1252'>"
      ]
     },
     "execution_count": 14,
     "metadata": {},
     "output_type": "execute_result"
    }
   ],
   "source": [
    "file = open(\"test.txt\", \"w\")\n",
    "file"
   ]
  },
  {
   "cell_type": "code",
   "execution_count": 16,
   "id": "53a968b3-b167-4452-bc8f-ae27d008fd2c",
   "metadata": {},
   "outputs": [
    {
     "data": {
      "text/plain": [
       "11"
      ]
     },
     "execution_count": 16,
     "metadata": {},
     "output_type": "execute_result"
    }
   ],
   "source": [
    "file.write('Hello World')"
   ]
  },
  {
   "cell_type": "code",
   "execution_count": 18,
   "id": "1540ac81-619f-4ec1-bfec-4b4f9d411986",
   "metadata": {},
   "outputs": [
    {
     "ename": "UnsupportedOperation",
     "evalue": "not readable",
     "output_type": "error",
     "traceback": [
      "\u001b[1;31m---------------------------------------------------------------------------\u001b[0m",
      "\u001b[1;31mUnsupportedOperation\u001b[0m                      Traceback (most recent call last)",
      "Cell \u001b[1;32mIn[18], line 1\u001b[0m\n\u001b[1;32m----> 1\u001b[0m file\u001b[38;5;241m.\u001b[39mread()\n",
      "\u001b[1;31mUnsupportedOperation\u001b[0m: not readable"
     ]
    }
   ],
   "source": [
    "file.read()"
   ]
  },
  {
   "cell_type": "code",
   "execution_count": 22,
   "id": "d31d1f43-d64a-46af-a792-ca74eec8157d",
   "metadata": {},
   "outputs": [],
   "source": [
    "file.close()"
   ]
  },
  {
   "cell_type": "code",
   "execution_count": 24,
   "id": "135d9ae1-6e94-48ad-8268-72039f9ef32d",
   "metadata": {},
   "outputs": [],
   "source": [
    "file = open(\"test.txt\", \"r\")"
   ]
  },
  {
   "cell_type": "code",
   "execution_count": 26,
   "id": "e695716e-4057-4f61-afe4-5f4269203e1b",
   "metadata": {},
   "outputs": [
    {
     "data": {
      "text/plain": [
       "'Hello World'"
      ]
     },
     "execution_count": 26,
     "metadata": {},
     "output_type": "execute_result"
    }
   ],
   "source": [
    "file.read()"
   ]
  },
  {
   "cell_type": "code",
   "execution_count": 30,
   "id": "4501afb3-a9a2-4d3d-829b-6a41c9ac4553",
   "metadata": {},
   "outputs": [
    {
     "name": "stdin",
     "output_type": "stream",
     "text": [
      "Emails:  a@a.com, b@b.com,c@c.com,d@d.com\n"
     ]
    },
    {
     "name": "stdout",
     "output_type": "stream",
     "text": [
      "a@a.com\n",
      " b@b.com\n",
      "c@c.com\n",
      "d@d.com\n",
      "4\n"
     ]
    }
   ],
   "source": [
    "text = input(\"Emails: \")\n",
    "text = text.replace(\",\",\"\\n\")\n",
    "print(text)\n",
    "count = text.count(\"@\")\n",
    "print(count)"
   ]
  },
  {
   "cell_type": "code",
   "execution_count": 32,
   "id": "48f75d17-1829-46c9-9ccd-eb53dc588e9f",
   "metadata": {},
   "outputs": [],
   "source": [
    "\n",
    "#List\n",
    "names=[\"Funmi\",\"Tobi\",\"Yemi\"]"
   ]
  },
  {
   "cell_type": "code",
   "execution_count": 34,
   "id": "4c8165e4-de35-4b93-8bb8-3496e16449e9",
   "metadata": {},
   "outputs": [
    {
     "data": {
      "text/plain": [
       "['Funmi', 'Tobi', 'Yemi']"
      ]
     },
     "execution_count": 34,
     "metadata": {},
     "output_type": "execute_result"
    }
   ],
   "source": [
    "names"
   ]
  },
  {
   "cell_type": "code",
   "execution_count": 36,
   "id": "d9052a3b-f89d-4291-9d7a-402c75d136df",
   "metadata": {},
   "outputs": [
    {
     "data": {
      "text/plain": [
       "'Tobi'"
      ]
     },
     "execution_count": 36,
     "metadata": {},
     "output_type": "execute_result"
    }
   ],
   "source": [
    "names[1]"
   ]
  },
  {
   "cell_type": "code",
   "execution_count": 38,
   "id": "596bf0dc-ade1-444e-875e-83d36dfb40b9",
   "metadata": {},
   "outputs": [],
   "source": [
    "names.append(\"Gbemi\")"
   ]
  },
  {
   "cell_type": "code",
   "execution_count": 40,
   "id": "fc165b89-fc0e-4d34-98de-e6d3c8e3ed64",
   "metadata": {},
   "outputs": [
    {
     "data": {
      "text/plain": [
       "['Funmi', 'Tobi', 'Yemi', 'Gbemi']"
      ]
     },
     "execution_count": 40,
     "metadata": {},
     "output_type": "execute_result"
    }
   ],
   "source": [
    "names"
   ]
  },
  {
   "cell_type": "code",
   "execution_count": 42,
   "id": "8fa422cd-fdfa-4905-b0b1-5b76c8280cda",
   "metadata": {},
   "outputs": [
    {
     "data": {
      "text/plain": [
       "'Gbemi'"
      ]
     },
     "execution_count": 42,
     "metadata": {},
     "output_type": "execute_result"
    }
   ],
   "source": [
    "names.pop()"
   ]
  },
  {
   "cell_type": "code",
   "execution_count": 44,
   "id": "6d968e23-6277-45d1-ba76-741d8549cbc0",
   "metadata": {},
   "outputs": [
    {
     "data": {
      "text/plain": [
       "['Funmi', 'Tobi', 'Yemi']"
      ]
     },
     "execution_count": 44,
     "metadata": {},
     "output_type": "execute_result"
    }
   ],
   "source": [
    "names"
   ]
  },
  {
   "cell_type": "code",
   "execution_count": 46,
   "id": "306561b6-ea86-4434-a422-a5c6b9f0cd46",
   "metadata": {},
   "outputs": [],
   "source": [
    "names[2] = \"tola\""
   ]
  },
  {
   "cell_type": "code",
   "execution_count": 48,
   "id": "1127ab27-5470-413a-8cf1-417090576073",
   "metadata": {},
   "outputs": [
    {
     "data": {
      "text/plain": [
       "['Funmi', 'Tobi', 'tola']"
      ]
     },
     "execution_count": 48,
     "metadata": {},
     "output_type": "execute_result"
    }
   ],
   "source": [
    "names"
   ]
  },
  {
   "cell_type": "code",
   "execution_count": 52,
   "id": "32f2722e-e053-4318-912b-bfb2f091de67",
   "metadata": {},
   "outputs": [
    {
     "name": "stdin",
     "output_type": "stream",
     "text": [
      "Names:  olu,ade,ola,akin\n"
     ]
    },
    {
     "name": "stdout",
     "output_type": "stream",
     "text": [
      "akin\n",
      "ola\n"
     ]
    }
   ],
   "source": [
    "from random import choice\n",
    "response = input(\"Names: \")\n",
    "names = response.split(\",\")\n",
    "name = choice(names)\n",
    "print(name)\n",
    "\n",
    "names.remove(name)\n",
    "name = choice(names)\n",
    "print(name)"
   ]
  },
  {
   "cell_type": "code",
   "execution_count": 60,
   "id": "d8562b15-159f-45b8-a16e-2ec3f2516e86",
   "metadata": {},
   "outputs": [
    {
     "name": "stdout",
     "output_type": "stream",
     "text": [
      "a is not greater b\n"
     ]
    }
   ],
   "source": [
    "#boolean\n",
    "a=200\n",
    "b=400\n",
    "if a > b:\n",
    "    print(\"a is greater b\")\n",
    "else:\n",
    "    print(\"a is not greater b\")"
   ]
  },
  {
   "cell_type": "code",
   "execution_count": 64,
   "id": "45574e83-7571-4e3e-ad27-343a6fa4a468",
   "metadata": {},
   "outputs": [
    {
     "name": "stdout",
     "output_type": "stream",
     "text": [
      "False\n"
     ]
    }
   ],
   "source": [
    "x = \"Ola\"\n",
    "print(isinstance(x, int))"
   ]
  },
  {
   "cell_type": "code",
   "execution_count": 66,
   "id": "9b6877cd-1e70-4557-8209-4cee9577e66c",
   "metadata": {},
   "outputs": [
    {
     "name": "stdout",
     "output_type": "stream",
     "text": [
      "8\n",
      "2\n",
      "15\n",
      "2\n",
      "125\n",
      "1\n",
      "125\n",
      "1\n",
      "3\n",
      "0\n",
      "0\n",
      "3\n",
      "False\n",
      "False\n",
      "False\n",
      "False\n",
      "True\n"
     ]
    }
   ],
   "source": [
    "x = 5\n",
    "y = 3\n",
    "\n",
    "print(x + y)\n",
    "print(x - y)\n",
    "print(x * y)\n",
    "print(x % y)\n",
    "print(x ** y) #same as 2*2*2*2*2\n",
    "print(x // y)\n",
    "x **= 3\n",
    "\n",
    "print(x)\n",
    "\n",
    "x &= 3\n",
    "\n",
    "print(x)\n",
    "\n",
    "x |= 3\n",
    "\n",
    "print(x)\n",
    "\n",
    "x ^= 3\n",
    "\n",
    "print(x)\n",
    "\n",
    "x >>= 3\n",
    "\n",
    "print(x)\n",
    "\n",
    "print(x := 3)\n",
    "\n",
    "print(x != y)\n",
    "\n",
    "print(x > y)\n",
    "\n",
    "print(x < y)\n",
    "\n",
    "print(x > 3 and x < 10)\n",
    "print(not(x > 3 and x < 10))\n",
    "\n"
   ]
  },
  {
   "cell_type": "code",
   "execution_count": 68,
   "id": "24312139-abcd-45fa-8f7c-d4515438e8de",
   "metadata": {},
   "outputs": [
    {
     "name": "stdout",
     "output_type": "stream",
     "text": [
      "False\n",
      "True\n",
      "False\n"
     ]
    }
   ],
   "source": [
    "x = [\"apple\", \"banana\"]\n",
    "y = [\"apple\", \"banana\"]\n",
    "z = x\n",
    "\n",
    "print(x is not z)\n",
    "\n",
    "# returns False because z is the same object as x\n",
    "\n",
    "print(x is not y)\n",
    "\n",
    "# returns True because x is not the same object as y, even if they have the same content\n",
    "\n",
    "print(x != y)\n"
   ]
  },
  {
   "cell_type": "code",
   "execution_count": 4,
   "id": "a26f26c0-c813-40e4-8060-ee27e54e781c",
   "metadata": {},
   "outputs": [
    {
     "data": {
      "text/plain": [
       "{'Jane': 3, 'Kayo': 8}"
      ]
     },
     "execution_count": 4,
     "metadata": {},
     "output_type": "execute_result"
    }
   ],
   "source": [
    "#Dictionary\n",
    "{\"Jane\":3,\"Kayo\":8}"
   ]
  },
  {
   "cell_type": "code",
   "execution_count": 6,
   "id": "1c11d4f4-706e-439c-9757-0e5631adf6c1",
   "metadata": {},
   "outputs": [],
   "source": [
    "names_of_cookies={\"Jane\":3,\"Kayo\":8}"
   ]
  },
  {
   "cell_type": "code",
   "execution_count": 8,
   "id": "a8cf9ac8-0234-4be8-8275-c8f780cbad82",
   "metadata": {},
   "outputs": [
    {
     "data": {
      "text/plain": [
       "{'Jane': 3, 'Kayo': 8}"
      ]
     },
     "execution_count": 8,
     "metadata": {},
     "output_type": "execute_result"
    }
   ],
   "source": [
    "names_of_cookies\n"
   ]
  },
  {
   "cell_type": "code",
   "execution_count": 10,
   "id": "1b505a02-6f08-4ce2-bc0a-b361470c2a24",
   "metadata": {},
   "outputs": [
    {
     "data": {
      "text/plain": [
       "3"
      ]
     },
     "execution_count": 10,
     "metadata": {},
     "output_type": "execute_result"
    }
   ],
   "source": [
    "names_of_cookies[\"Jane\"]"
   ]
  },
  {
   "cell_type": "code",
   "execution_count": 12,
   "id": "e521d240-73b6-4bb1-8178-3289522958f7",
   "metadata": {},
   "outputs": [],
   "source": [
    "names_of_cookies[\"Jane\"]=10"
   ]
  },
  {
   "cell_type": "code",
   "execution_count": 14,
   "id": "9b0430e4-2516-4ad8-86f4-a036cab147b4",
   "metadata": {},
   "outputs": [
    {
     "data": {
      "text/plain": [
       "{'Jane': 10, 'Kayo': 8}"
      ]
     },
     "execution_count": 14,
     "metadata": {},
     "output_type": "execute_result"
    }
   ],
   "source": [
    "names_of_cookies"
   ]
  },
  {
   "cell_type": "code",
   "execution_count": 18,
   "id": "57ffbfc9-d717-438d-ad50-c8071c5ac13c",
   "metadata": {},
   "outputs": [
    {
     "name": "stdout",
     "output_type": "stream",
     "text": [
      "Glasgow\n"
     ]
    }
   ],
   "source": [
    "#Checking Location project\n",
    "from requests import get\n",
    "response = get('https://ipinfo.io/json')\n",
    "data= response.json()\n",
    "city=data['city']\n",
    "print(city)"
   ]
  },
  {
   "cell_type": "code",
   "execution_count": 22,
   "id": "5dba1fd5-4007-45a0-8a68-17cd682693dc",
   "metadata": {},
   "outputs": [
    {
     "data": {
      "text/plain": [
       "[2, 3, 4]"
      ]
     },
     "execution_count": 22,
     "metadata": {},
     "output_type": "execute_result"
    }
   ],
   "source": [
    "numbers=[2,3,4]\n",
    "numbers"
   ]
  },
  {
   "cell_type": "code",
   "execution_count": 24,
   "id": "07ee7b02-0180-4ac2-8b6e-422cf96b6986",
   "metadata": {},
   "outputs": [
    {
     "data": {
      "text/plain": [
       "[4, 2, 7]"
      ]
     },
     "execution_count": 24,
     "metadata": {},
     "output_type": "execute_result"
    }
   ],
   "source": [
    "numbers2=[4,2,7]\n",
    "numbers2"
   ]
  },
  {
   "cell_type": "code",
   "execution_count": 26,
   "id": "15b98f49-497e-496d-a3d6-1a6f63787168",
   "metadata": {},
   "outputs": [
    {
     "data": {
      "text/plain": [
       "['a', 'b', 'c']"
      ]
     },
     "execution_count": 26,
     "metadata": {},
     "output_type": "execute_result"
    }
   ],
   "source": [
    "strings = [\"a\",\"b\",\"c\"]\n",
    "strings"
   ]
  },
  {
   "cell_type": "code",
   "execution_count": 28,
   "id": "8fa801f6-d257-4604-aafd-d0c2b565ea9c",
   "metadata": {},
   "outputs": [
    {
     "data": {
      "text/plain": [
       "[True]"
      ]
     },
     "execution_count": 28,
     "metadata": {},
     "output_type": "execute_result"
    }
   ],
   "source": [
    "booleans=[True]\n",
    "booleans"
   ]
  },
  {
   "cell_type": "code",
   "execution_count": 30,
   "id": "5da7d0a6-cebc-4bfa-be23-5cd68e15d37f",
   "metadata": {},
   "outputs": [
    {
     "data": {
      "text/plain": [
       "2"
      ]
     },
     "execution_count": 30,
     "metadata": {},
     "output_type": "execute_result"
    }
   ],
   "source": [
    "numbers[0]"
   ]
  },
  {
   "cell_type": "code",
   "execution_count": 32,
   "id": "362e52bd-10c7-4ebe-a2c8-33d824b4a6ad",
   "metadata": {},
   "outputs": [
    {
     "data": {
      "text/plain": [
       "'c'"
      ]
     },
     "execution_count": 32,
     "metadata": {},
     "output_type": "execute_result"
    }
   ],
   "source": [
    "strings[2]"
   ]
  },
  {
   "cell_type": "code",
   "execution_count": 34,
   "id": "a728e577-8d13-4838-8442-f54b88c777cb",
   "metadata": {},
   "outputs": [
    {
     "data": {
      "text/plain": [
       "{'Jack': False, 'Jane': True, 'Alex': True}"
      ]
     },
     "execution_count": 34,
     "metadata": {},
     "output_type": "execute_result"
    }
   ],
   "source": [
    "name_to_hungry = {\"Jack\":False ,\"Jane\":True , \"Alex\":True }\n",
    "name_to_hungry"
   ]
  },
  {
   "cell_type": "code",
   "execution_count": 36,
   "id": "ce2fa2dd-c1d0-4eae-a116-af80b3a2e98d",
   "metadata": {},
   "outputs": [
    {
     "data": {
      "text/plain": [
       "{'Emily': 1, 'Jenny': 2, 'Neel': 3}"
      ]
     },
     "execution_count": 36,
     "metadata": {},
     "output_type": "execute_result"
    }
   ],
   "source": [
    "name_to_burgers={\"Emily\":1 ,\"Jenny\":2 , \"Neel\":3}\n",
    "name_to_burgers"
   ]
  },
  {
   "cell_type": "code",
   "execution_count": 38,
   "id": "03533396-796d-4000-b3d2-7143c73db1f5",
   "metadata": {},
   "outputs": [
    {
     "data": {
      "text/plain": [
       "{'Goke': 'Head', 'Sola': 'IT', 'Femi': 'Manager'}"
      ]
     },
     "execution_count": 38,
     "metadata": {},
     "output_type": "execute_result"
    }
   ],
   "source": [
    "names_to_names= {\"Goke\":\"Head\", \"Sola\":\"IT\", \"Femi\":\"Manager\"}\n",
    "names_to_names"
   ]
  },
  {
   "cell_type": "code",
   "execution_count": 40,
   "id": "2ee5ca2f-178c-4584-9adf-ad3033dba355",
   "metadata": {},
   "outputs": [
    {
     "data": {
      "text/plain": [
       "{25: 'Ola', 30: 'Femi'}"
      ]
     },
     "execution_count": 40,
     "metadata": {},
     "output_type": "execute_result"
    }
   ],
   "source": [
    "age_name={25:\"Ola\", 30:\"Femi\"}\n",
    "age_name"
   ]
  },
  {
   "cell_type": "code",
   "execution_count": 42,
   "id": "04a36be7-9c90-4356-9034-1a37054992e1",
   "metadata": {},
   "outputs": [
    {
     "data": {
      "text/plain": [
       "False"
      ]
     },
     "execution_count": 42,
     "metadata": {},
     "output_type": "execute_result"
    }
   ],
   "source": [
    "name_to_hungry[\"Jack\"]"
   ]
  },
  {
   "cell_type": "code",
   "execution_count": 44,
   "id": "88ffb238-a560-48e8-83be-d962e5a69bd8",
   "metadata": {},
   "outputs": [
    {
     "data": {
      "text/plain": [
       "3"
      ]
     },
     "execution_count": 44,
     "metadata": {},
     "output_type": "execute_result"
    }
   ],
   "source": [
    "name_to_burgers[\"Neel\"]"
   ]
  },
  {
   "cell_type": "code",
   "execution_count": 50,
   "id": "6543836e-0b7f-4f2a-a595-8f8f62e5467b",
   "metadata": {},
   "outputs": [
    {
     "data": {
      "text/plain": [
       "[{'Key1': 'Value1'}, {'Key2': 'Value2'}]"
      ]
     },
     "execution_count": 50,
     "metadata": {},
     "output_type": "execute_result"
    }
   ],
   "source": [
    "name_to_burgers2=[{\"Key1\":\"Value1\"},{\"Key2\":\"Value2\"}]\n",
    "name_to_burgers2"
   ]
  },
  {
   "cell_type": "code",
   "execution_count": 54,
   "id": "1feb6c68-5d74-4f94-9bc8-f14907b7a3ae",
   "metadata": {},
   "outputs": [
    {
     "data": {
      "text/plain": [
       "{'Ade': [12, 'Head', 'Oyo'], 'Tolu': [25, 'Busar', 'lagos']}"
      ]
     },
     "execution_count": 54,
     "metadata": {},
     "output_type": "execute_result"
    }
   ],
   "source": [
    "#dictionary mapping strings to list\n",
    "string_lists={\"Ade\": [12,\"Head\",\"Oyo\"],\"Tolu\":[25,\"Busar\",\"lagos\"]}\n",
    "string_lists"
   ]
  },
  {
   "cell_type": "code",
   "execution_count": 58,
   "id": "b24da7cd-1000-4751-a120-e0b41f4a42a6",
   "metadata": {},
   "outputs": [
    {
     "data": {
      "text/plain": [
       "2"
      ]
     },
     "execution_count": 58,
     "metadata": {},
     "output_type": "execute_result"
    }
   ],
   "source": [
    "\n",
    "#functions\n",
    "min(2,6)\n"
   ]
  },
  {
   "cell_type": "code",
   "execution_count": 60,
   "id": "7442cbe2-ea1e-4ed5-a429-a334f6c5747c",
   "metadata": {},
   "outputs": [
    {
     "data": {
      "text/plain": [
       "452"
      ]
     },
     "execution_count": 60,
     "metadata": {},
     "output_type": "execute_result"
    }
   ],
   "source": [
    "max(125,452)"
   ]
  },
  {
   "cell_type": "code",
   "execution_count": 72,
   "id": "1a641147-1b34-4184-87df-634965c1223e",
   "metadata": {},
   "outputs": [
    {
     "data": {
      "text/plain": [
       "19.85"
      ]
     },
     "execution_count": 72,
     "metadata": {},
     "output_type": "execute_result"
    }
   ],
   "source": [
    "sum([2.85,4,5,8])"
   ]
  },
  {
   "cell_type": "code",
   "execution_count": 92,
   "id": "da5fc733-8877-4e4e-a855-4fd0e928d329",
   "metadata": {},
   "outputs": [
    {
     "data": {
      "text/plain": [
       "[False]"
      ]
     },
     "execution_count": 92,
     "metadata": {},
     "output_type": "execute_result"
    }
   ],
   "source": [
    "alls=[True and False and True]\n",
    "alls"
   ]
  },
  {
   "cell_type": "code",
   "execution_count": 96,
   "id": "b9b4c11a-8b89-40f8-882d-25bddb281319",
   "metadata": {},
   "outputs": [
    {
     "data": {
      "text/plain": [
       "True"
      ]
     },
     "execution_count": 96,
     "metadata": {},
     "output_type": "execute_result"
    }
   ],
   "source": [
    "any([True, False, False])"
   ]
  },
  {
   "cell_type": "code",
   "execution_count": 112,
   "id": "695e640f-2083-44c9-8aaf-afa7cdeea5c9",
   "metadata": {},
   "outputs": [
    {
     "name": "stdin",
     "output_type": "stream",
     "text": [
      "Name:  HAHAHA\n"
     ]
    },
    {
     "name": "stdout",
     "output_type": "stream",
     "text": [
      "hahaha\n"
     ]
    }
   ],
   "source": [
    "text = input(\"Name: \")\n",
    "\n",
    "print(text.lower())"
   ]
  },
  {
   "cell_type": "code",
   "execution_count": 118,
   "id": "71f9deb6-8e3d-4ba0-857a-c6c8acd7216f",
   "metadata": {},
   "outputs": [
    {
     "data": {
      "text/plain": [
       "'hehe'"
      ]
     },
     "execution_count": 118,
     "metadata": {},
     "output_type": "execute_result"
    }
   ],
   "source": [
    "   \"  hehe\".lstrip()"
   ]
  },
  {
   "cell_type": "code",
   "execution_count": 132,
   "id": "4f2d8af7-b25b-4307-b754-8a99090d80fa",
   "metadata": {},
   "outputs": [
    {
     "data": {
      "text/plain": [
       "True"
      ]
     },
     "execution_count": 132,
     "metadata": {},
     "output_type": "execute_result"
    }
   ],
   "source": [
    "\"he@d.com\".endswith(\".com\")"
   ]
  },
  {
   "cell_type": "code",
   "execution_count": 134,
   "id": "c8087444-c7f2-4e62-acdc-69bd6ddb07d1",
   "metadata": {},
   "outputs": [
    {
     "data": {
      "text/plain": [
       "True"
      ]
     },
     "execution_count": 134,
     "metadata": {},
     "output_type": "execute_result"
    }
   ],
   "source": [
    "\"Mr.Bean\".startswith(\"Mr.\")"
   ]
  },
  {
   "cell_type": "code",
   "execution_count": 136,
   "id": "5776b7f2-89cb-4f5b-ac2b-7940dee62a40",
   "metadata": {},
   "outputs": [
    {
     "data": {
      "text/plain": [
       "5"
      ]
     },
     "execution_count": 136,
     "metadata": {},
     "output_type": "execute_result"
    }
   ],
   "source": [
    "\"Supercalifragilistic\".find(\"cali\")"
   ]
  },
  {
   "cell_type": "code",
   "execution_count": 138,
   "id": "1380473b-1fca-413c-b2a3-8a3790ee25e0",
   "metadata": {},
   "outputs": [
    {
     "data": {
      "text/plain": [
       "4"
      ]
     },
     "execution_count": 138,
     "metadata": {},
     "output_type": "execute_result"
    }
   ],
   "source": [
    "\"mississippi\".count(\"i\")"
   ]
  },
  {
   "cell_type": "code",
   "execution_count": 140,
   "id": "fff16bd8-9de1-42e0-8763-38eb958c5d7b",
   "metadata": {},
   "outputs": [
    {
     "data": {
      "text/plain": [
       "'hehehehehe'"
      ]
     },
     "execution_count": 140,
     "metadata": {},
     "output_type": "execute_result"
    }
   ],
   "source": [
    "\"hahahahaha\".replace(\"a\",\"e\")"
   ]
  },
  {
   "cell_type": "code",
   "execution_count": 142,
   "id": "a2eec71a-84ea-4b9f-8168-0364359358c8",
   "metadata": {},
   "outputs": [
    {
     "data": {
      "text/plain": [
       "\"Jon poked Jons' dog\""
      ]
     },
     "execution_count": 142,
     "metadata": {},
     "output_type": "execute_result"
    }
   ],
   "source": [
    "\"Bob poked Bobs' dog\".replace(\"Bob\",\"Jon\")"
   ]
  },
  {
   "cell_type": "code",
   "execution_count": 150,
   "id": "5712ead0-d082-4618-a6d5-2d1403cf4c1f",
   "metadata": {},
   "outputs": [
    {
     "data": {
      "text/plain": [
       "dict_values([1, 2])"
      ]
     },
     "execution_count": 150,
     "metadata": {},
     "output_type": "execute_result"
    }
   ],
   "source": [
    "x={\"a\":1, \"b\":2}\n",
    "x.values()"
   ]
  },
  {
   "cell_type": "code",
   "execution_count": 152,
   "id": "363e8363-8f8e-4f23-b345-1c7e3fb5e1ee",
   "metadata": {},
   "outputs": [
    {
     "data": {
      "text/plain": [
       "dict_keys(['a', 'b'])"
      ]
     },
     "execution_count": 152,
     "metadata": {},
     "output_type": "execute_result"
    }
   ],
   "source": [
    "x.keys()"
   ]
  },
  {
   "cell_type": "code",
   "execution_count": 162,
   "id": "9fccf162-ce31-40e3-bd5e-051c4390a706",
   "metadata": {},
   "outputs": [
    {
     "name": "stdout",
     "output_type": "stream",
     "text": [
      "google.com/mail/hi\n"
     ]
    }
   ],
   "source": [
    "j = ([\"google.com\",\"mail\",\"hi\"])\n",
    "s = \"/\".join(j)\n",
    "print(s)"
   ]
  },
  {
   "cell_type": "code",
   "execution_count": 164,
   "id": "94ba2ceb-a327-4c82-bcdf-fdc309f45078",
   "metadata": {},
   "outputs": [
    {
     "name": "stdout",
     "output_type": "stream",
     "text": [
      "3\n"
     ]
    }
   ],
   "source": [
    "thislist = [\"apple\", \"banana\", \"cherry\"]\n",
    "print(len(thislist))"
   ]
  },
  {
   "cell_type": "code",
   "execution_count": 166,
   "id": "d83ab62d-8c4e-418c-862b-45cca2acb4c2",
   "metadata": {},
   "outputs": [
    {
     "name": "stdout",
     "output_type": "stream",
     "text": [
      "['apple', 'banana', 'watermelon', 'cherry']\n"
     ]
    }
   ],
   "source": [
    "thislist = [\"apple\", \"banana\", \"cherry\"]\n",
    "thislist.insert(2, \"watermelon\")\n",
    "print(thislist)"
   ]
  },
  {
   "cell_type": "code",
   "execution_count": 168,
   "id": "fefc22ff-7849-4944-b411-86dcec101918",
   "metadata": {},
   "outputs": [
    {
     "name": "stdout",
     "output_type": "stream",
     "text": [
      "['apple', 'banana', 'cherry', 'mango', 'pineapple', 'papaya']\n"
     ]
    }
   ],
   "source": [
    "thislist = [\"apple\", \"banana\", \"cherry\"]\n",
    "tropical = [\"mango\", \"pineapple\", \"papaya\"]\n",
    "thislist.extend(tropical)\n",
    "print(thislist)"
   ]
  },
  {
   "cell_type": "code",
   "execution_count": 170,
   "id": "eba44446-fb61-48ff-ad29-dcfe8df548d7",
   "metadata": {},
   "outputs": [
    {
     "name": "stdout",
     "output_type": "stream",
     "text": [
      "['apple', 'banana', 'cherry', 'kiwi', 'orange']\n"
     ]
    }
   ],
   "source": [
    "thislist = [\"apple\", \"banana\", \"cherry\"]\n",
    "thistuple = (\"kiwi\", \"orange\")\n",
    "thislist.extend(thistuple)\n",
    "print(thislist)"
   ]
  },
  {
   "cell_type": "code",
   "execution_count": 172,
   "id": "7d7eeaca-f718-4f30-8a92-88a7f72ad5f0",
   "metadata": {},
   "outputs": [
    {
     "name": "stdout",
     "output_type": "stream",
     "text": [
      "['apple', 'cherry', 'banana', 'kiwi']\n"
     ]
    }
   ],
   "source": [
    "thislist = [\"apple\", \"banana\", \"cherry\", \"banana\", \"kiwi\"]\n",
    "thislist.remove(\"banana\")\n",
    "print(thislist)"
   ]
  },
  {
   "cell_type": "code",
   "execution_count": 174,
   "id": "394c7e9c-df4e-4a67-a4be-906217172ac8",
   "metadata": {},
   "outputs": [
    {
     "name": "stdout",
     "output_type": "stream",
     "text": [
      "['apple', 'cherry']\n"
     ]
    }
   ],
   "source": [
    "thislist = [\"apple\", \"banana\", \"cherry\"]\n",
    "thislist.pop(1)\n",
    "print(thislist)"
   ]
  },
  {
   "cell_type": "code",
   "execution_count": 176,
   "id": "c8b7a1eb-3be2-4232-973b-1b3185e8d48c",
   "metadata": {},
   "outputs": [
    {
     "name": "stdout",
     "output_type": "stream",
     "text": [
      "['banana', 'cherry']\n"
     ]
    }
   ],
   "source": [
    "thislist = [\"apple\", \"banana\", \"cherry\"]\n",
    "del thislist[0]\n",
    "print(thislist)"
   ]
  },
  {
   "cell_type": "code",
   "execution_count": 178,
   "id": "bdd06e35-cb06-4dfc-954e-a2632b984b2f",
   "metadata": {},
   "outputs": [
    {
     "ename": "NameError",
     "evalue": "name 'thislist' is not defined",
     "output_type": "error",
     "traceback": [
      "\u001b[1;31m---------------------------------------------------------------------------\u001b[0m",
      "\u001b[1;31mNameError\u001b[0m                                 Traceback (most recent call last)",
      "Cell \u001b[1;32mIn[178], line 3\u001b[0m\n\u001b[0;32m      1\u001b[0m thislist \u001b[38;5;241m=\u001b[39m [\u001b[38;5;124m\"\u001b[39m\u001b[38;5;124mapple\u001b[39m\u001b[38;5;124m\"\u001b[39m, \u001b[38;5;124m\"\u001b[39m\u001b[38;5;124mbanana\u001b[39m\u001b[38;5;124m\"\u001b[39m, \u001b[38;5;124m\"\u001b[39m\u001b[38;5;124mcherry\u001b[39m\u001b[38;5;124m\"\u001b[39m]\n\u001b[0;32m      2\u001b[0m \u001b[38;5;28;01mdel\u001b[39;00m thislist\n\u001b[1;32m----> 3\u001b[0m \u001b[38;5;28mprint\u001b[39m(thislist)\n",
      "\u001b[1;31mNameError\u001b[0m: name 'thislist' is not defined"
     ]
    }
   ],
   "source": [
    "thislist = [\"apple\", \"banana\", \"cherry\"]\n",
    "del thislist\n",
    "print(thislist)"
   ]
  },
  {
   "cell_type": "code",
   "execution_count": 180,
   "id": "c55be857-3a22-42a5-94c7-a3e905bcc1e8",
   "metadata": {},
   "outputs": [
    {
     "name": "stdout",
     "output_type": "stream",
     "text": [
      "[]\n"
     ]
    }
   ],
   "source": [
    "thislist = [\"apple\", \"banana\", \"cherry\"]\n",
    "thislist.clear()\n",
    "print(thislist)"
   ]
  },
  {
   "cell_type": "code",
   "execution_count": 2,
   "id": "537ca3e8-dba2-4ac4-9501-5cacee744880",
   "metadata": {},
   "outputs": [
    {
     "name": "stdout",
     "output_type": "stream",
     "text": [
      "10\n"
     ]
    }
   ],
   "source": [
    "# If Else statement\n",
    "x=3\n",
    "if x<5:\n",
    "    x=10\n",
    "print(x)"
   ]
  },
  {
   "cell_type": "code",
   "execution_count": 6,
   "id": "f128ddbc-34d0-4ea8-9ebe-999b67878190",
   "metadata": {},
   "outputs": [
    {
     "name": "stdout",
     "output_type": "stream",
     "text": [
      "4\n"
     ]
    }
   ],
   "source": [
    "x=8\n",
    "if x<5:\n",
    "    x=10\n",
    "else:\n",
    "    x=4\n",
    "print(x)"
   ]
  },
  {
   "cell_type": "code",
   "execution_count": 10,
   "id": "e60e7b0f-bb48-4523-955a-3a6bb0b44c15",
   "metadata": {},
   "outputs": [
    {
     "name": "stdout",
     "output_type": "stream",
     "text": [
      "Incorrect Name\n"
     ]
    }
   ],
   "source": [
    "name = \"Bob\"\n",
    "if name == \"Jesse\":\n",
    "    print(\"Name Verified\")\n",
    "else:\n",
    "    print(\"Incorrect Name\")"
   ]
  },
  {
   "cell_type": "code",
   "execution_count": 14,
   "id": "e77b2418-ef62-4e88-825f-417d5b32a228",
   "metadata": {},
   "outputs": [
    {
     "data": {
      "text/plain": [
       "datetime.datetime(2030, 1, 1, 0, 0)"
      ]
     },
     "execution_count": 14,
     "metadata": {},
     "output_type": "execute_result"
    }
   ],
   "source": [
    "from datetime import datetime\n",
    "datetime(2030,1,1)"
   ]
  },
  {
   "cell_type": "code",
   "execution_count": 16,
   "id": "4819e268-f19d-4391-bf2e-bf51bbdb35c6",
   "metadata": {},
   "outputs": [
    {
     "data": {
      "text/plain": [
       "datetime.datetime(2030, 1, 1, 12, 0)"
      ]
     },
     "execution_count": 16,
     "metadata": {},
     "output_type": "execute_result"
    }
   ],
   "source": [
    "datetime(2030,1,1,12)"
   ]
  },
  {
   "cell_type": "code",
   "execution_count": 18,
   "id": "ea449515-9c73-4432-a57c-e4f074443bf7",
   "metadata": {},
   "outputs": [
    {
     "data": {
      "text/plain": [
       "4"
      ]
     },
     "execution_count": 18,
     "metadata": {},
     "output_type": "execute_result"
    }
   ],
   "source": [
    "dt = datetime(2030,3,15)\n",
    "dt.weekday()"
   ]
  },
  {
   "cell_type": "code",
   "execution_count": 20,
   "id": "383349b1-e5aa-4d61-96b2-48e8565b7b30",
   "metadata": {},
   "outputs": [
    {
     "data": {
      "text/plain": [
       "'2030-03-15T00:00:00'"
      ]
     },
     "execution_count": 20,
     "metadata": {},
     "output_type": "execute_result"
    }
   ],
   "source": [
    "dt.isoformat()\n"
   ]
  },
  {
   "cell_type": "code",
   "execution_count": 24,
   "id": "858c7495-9f83-4fec-b6e8-aaea2c96406a",
   "metadata": {},
   "outputs": [
    {
     "data": {
      "text/plain": [
       "2030"
      ]
     },
     "execution_count": 24,
     "metadata": {},
     "output_type": "execute_result"
    }
   ],
   "source": [
    "dt.year"
   ]
  },
  {
   "cell_type": "code",
   "execution_count": 26,
   "id": "df1106ec-1575-41ba-b6f9-be7f5dd97d3a",
   "metadata": {},
   "outputs": [
    {
     "data": {
      "text/plain": [
       "3"
      ]
     },
     "execution_count": 26,
     "metadata": {},
     "output_type": "execute_result"
    }
   ],
   "source": [
    "dt.month"
   ]
  },
  {
   "cell_type": "code",
   "execution_count": 28,
   "id": "f096735b-2426-4df8-8680-a4010e9f26d8",
   "metadata": {},
   "outputs": [
    {
     "data": {
      "text/plain": [
       "15"
      ]
     },
     "execution_count": 28,
     "metadata": {},
     "output_type": "execute_result"
    }
   ],
   "source": [
    "dt.day"
   ]
  },
  {
   "cell_type": "code",
   "execution_count": 30,
   "id": "dbac78f7-5263-4092-854e-049113b38de9",
   "metadata": {},
   "outputs": [
    {
     "data": {
      "text/plain": [
       "True"
      ]
     },
     "execution_count": 30,
     "metadata": {},
     "output_type": "execute_result"
    }
   ],
   "source": [
    "dt2=datetime(2030,12,31)\n",
    "dt2>dt"
   ]
  },
  {
   "cell_type": "code",
   "execution_count": 32,
   "id": "4d146c4d-a054-41b8-a33c-b0786c075846",
   "metadata": {},
   "outputs": [
    {
     "data": {
      "text/plain": [
       "datetime.timedelta(days=291)"
      ]
     },
     "execution_count": 32,
     "metadata": {},
     "output_type": "execute_result"
    }
   ],
   "source": [
    "dt2 - dt"
   ]
  },
  {
   "cell_type": "code",
   "execution_count": 34,
   "id": "7aa8f063-ba86-48c4-a72d-a082ee72c1db",
   "metadata": {},
   "outputs": [
    {
     "data": {
      "text/plain": [
       "291"
      ]
     },
     "execution_count": 34,
     "metadata": {},
     "output_type": "execute_result"
    }
   ],
   "source": [
    "diff = dt2 - dt\n",
    "diff.days"
   ]
  },
  {
   "cell_type": "code",
   "execution_count": 36,
   "id": "1259e1d9-43d5-40fc-9704-9c3230e07956",
   "metadata": {},
   "outputs": [
    {
     "data": {
      "text/plain": [
       "25142400.0"
      ]
     },
     "execution_count": 36,
     "metadata": {},
     "output_type": "execute_result"
    }
   ],
   "source": [
    "diff.total_seconds()"
   ]
  },
  {
   "cell_type": "code",
   "execution_count": 48,
   "id": "1f111d92-6167-4268-9d69-fa258462fb2e",
   "metadata": {},
   "outputs": [
    {
     "name": "stdout",
     "output_type": "stream",
     "text": [
      "145\n",
      "2025 7\n"
     ]
    }
   ],
   "source": [
    "from datetime import datetime\n",
    "now = datetime.now()\n",
    "next_bday= datetime(now.year,7,3)\n",
    "if next_bday < now:\n",
    "    next_bday = next_bday.replace(now.year + 1)\n",
    "diff = next_bday - now\n",
    "days = diff.days\n",
    "year = next_bday.year\n",
    "month = next_bday.month\n",
    "print(days)\n",
    "print(year,month)"
   ]
  },
  {
   "cell_type": "code",
   "execution_count": 50,
   "id": "66d47195-bda5-42a2-bce0-c9fbaac1a91a",
   "metadata": {},
   "outputs": [
    {
     "name": "stdout",
     "output_type": "stream",
     "text": [
      "0\n",
      "1\n",
      "2\n",
      "3\n",
      "4\n",
      "5\n"
     ]
    }
   ],
   "source": [
    "#While Loop\n",
    "x=0\n",
    "while x < 5:\n",
    "    print(x)\n",
    "    x=x+1\n",
    "print(x)\n"
   ]
  },
  {
   "cell_type": "code",
   "execution_count": 90,
   "id": "45421d1f-369f-493e-ba26-86b8d52fb9d6",
   "metadata": {},
   "outputs": [
    {
     "name": "stdout",
     "output_type": "stream",
     "text": [
      "4\n",
      "8\n",
      "12\n",
      "16\n",
      "20\n",
      "24\n",
      "28\n",
      "32\n",
      "36\n",
      "40\n",
      "44\n",
      "48\n"
     ]
    }
   ],
   "source": [
    "#program of 2 times table\n",
    "x=1\n",
    "y=x+3\n",
    "z = x * y\n",
    "while x < 13:\n",
    "    z=x*y\n",
    "    print(z)\n",
    "    x = x+1\n",
    "    \n",
    "\n",
    "\n"
   ]
  },
  {
   "cell_type": "code",
   "execution_count": 96,
   "id": "840a75d5-d3fa-4ba8-9e88-8e31c02f6534",
   "metadata": {},
   "outputs": [
    {
     "name": "stdin",
     "output_type": "stream",
     "text": [
      "Number of Sentences:  50\n"
     ]
    },
    {
     "name": "stdout",
     "output_type": "stream",
     "text": [
      "['Chuck shoulder turducken picanha, corned beef short ribs chicken sausage leberkas tongue chislic t-bone. Hamburger beef short ribs, chicken turkey burgdoggen cow pig kielbasa ground round jerky brisket. Spare ribs meatball sirloin, alcatra kielbasa biltong shank filet mignon tail buffalo pastrami doner capicola salami ribeye. Leberkas filet mignon frankfurter swine pancetta beef ribs. Corned beef ham hock chuck turkey swine t-bone kevin tenderloin kielbasa ham. Pig prosciutto cupim pork belly turducken, doner kevin pork rump ham chicken short ribs boudin swine. Kevin cow corned beef frankfurter. Tail turducken short ribs pancetta jowl t-bone shankle brisket biltong landjaeger fatback. Meatball tri-tip landjaeger turkey short loin alcatra ball tip tongue rump. Venison short ribs pastrami doner cow kielbasa alcatra tongue chicken tri-tip ribeye landjaeger turducken. Pork kielbasa ham hock filet mignon sausage beef ribs pork loin cupim doner bacon shankle salami biltong. Meatloaf cow cupim turducken chuck, strip steak pancetta bacon beef ribs swine. Chuck doner fatback picanha capicola. Pork belly brisket pancetta strip steak beef ribs, beef rump. Ham frankfurter kevin spare ribs ball tip. Pork cupim pig boudin, shankle beef ribs prosciutto andouille spare ribs pancetta sausage. Tri-tip alcatra bacon ground round t-bone tenderloin sirloin brisket pastrami pancetta pork belly. Pork loin boudin chicken ham venison. Meatloaf short ribs filet mignon shankle chicken ribeye, shank frankfurter sirloin venison bacon meatball salami biltong. Shankle kevin filet mignon pork pork chop fatback. Venison bresaola swine pastrami, drumstick doner spare ribs shank sausage. Bacon beef swine, shoulder tail burgdoggen beef ribs. Boudin jowl pork chop ham hock ham shoulder. Corned beef rump ball tip sirloin filet mignon tongue. Cow biltong kielbasa ground round cupim fatback pork chop capicola pork loin doner. Landjaeger short loin shankle andouille prosciutto ham salami sirloin kielbasa hamburger sausage frankfurter beef buffalo. Strip steak boudin beef ribs spare ribs brisket buffalo. Fatback filet mignon short loin pancetta sirloin ham hock boudin kevin flank t-bone. Pork chop jerky strip steak porchetta chislic cow, ribeye short loin swine spare ribs beef ribs pastrami. Shankle meatloaf porchetta fatback jowl, bresaola drumstick capicola frankfurter ribeye kielbasa corned beef pastrami chislic kevin. Ribeye cupim beef shank short loin meatloaf sausage jowl landjaeger kevin salami burgdoggen prosciutto. Chuck beef chicken ball tip buffalo pig sirloin. Shank jowl flank brisket short ribs prosciutto andouille jerky pig tri-tip sirloin bacon biltong buffalo burgdoggen. Turducken corned beef bacon tri-tip turkey t-bone beef ribs pork chop landjaeger tenderloin spare ribs shoulder porchetta fatback. Brisket strip steak spare ribs meatball meatloaf, drumstick shank sirloin. Doner bacon corned beef, t-bone tail ham kielbasa hamburger capicola bresaola. Cupim prosciutto frankfurter fatback, tail ribeye ball tip t-bone filet mignon chuck ham hock pig ham sirloin chislic. Turducken cow buffalo, capicola kevin hamburger brisket tenderloin ham hock pork loin alcatra short loin jowl. Sirloin rump tenderloin salami. Ham hock picanha rump leberkas. Picanha short loin ball tip shankle, salami cupim jerky tenderloin ribeye t-bone buffalo chuck rump. Meatloaf ground round ribeye cow rump, burgdoggen capicola jerky pork chop sausage cupim tri-tip. Swine brisket pork belly sirloin jowl rump meatloaf. Short loin chislic pork brisket. Venison burgdoggen chicken prosciutto, cupim strip steak meatloaf sirloin tenderloin. Leberkas beef ribs salami boudin drumstick spare ribs fatback. Pastrami t-bone ham ham hock buffalo pig short loin sirloin pancetta. Pork venison turkey porchetta shankle meatloaf jerky pork belly boudin. Sausage jerky pork chop, kielbasa shank beef ribs ground round fatback meatloaf ham hock tongue leberkas. Shank drumstick pastrami salami bacon.']\n"
     ]
    }
   ],
   "source": [
    "from requests import get\n",
    "sentences = \"\"\n",
    "while not sentences.isdigit():\n",
    "    sentences =input(\"Number of Sentences: \")\n",
    "url = 'https://baconipsum.com/api/?type=all=meat&sentences=' + sentences\n",
    "response = get(url)\n",
    "paragraphs = response.json()\n",
    "paragraph =paragraphs[0]\n",
    "print(paragraphs)"
   ]
  },
  {
   "cell_type": "code",
   "execution_count": 98,
   "id": "a3c23488-4d8f-4816-a42e-f776b4b64844",
   "metadata": {},
   "outputs": [
    {
     "data": {
      "text/plain": [
       "range(0, 5)"
      ]
     },
     "execution_count": 98,
     "metadata": {},
     "output_type": "execute_result"
    }
   ],
   "source": [
    "range(5)"
   ]
  },
  {
   "cell_type": "code",
   "execution_count": 102,
   "id": "6c5d05aa-0e25-4a53-92b4-49719ef1aefe",
   "metadata": {},
   "outputs": [],
   "source": [
    "iterable = range(5)"
   ]
  },
  {
   "cell_type": "code",
   "execution_count": 104,
   "id": "4fa6640d-2803-490e-beaa-1f4d39b74ba3",
   "metadata": {},
   "outputs": [
    {
     "data": {
      "text/plain": [
       "[0, 1, 2, 3, 4]"
      ]
     },
     "execution_count": 104,
     "metadata": {},
     "output_type": "execute_result"
    }
   ],
   "source": [
    "list(iterable)"
   ]
  },
  {
   "cell_type": "code",
   "execution_count": 106,
   "id": "bc465c0b-a432-4c30-b742-f29dafad2c1b",
   "metadata": {},
   "outputs": [
    {
     "name": "stdout",
     "output_type": "stream",
     "text": [
      "0\n",
      "1\n",
      "2\n",
      "3\n",
      "4\n",
      "5\n",
      "6\n",
      "7\n",
      "8\n",
      "9\n"
     ]
    }
   ],
   "source": [
    "for i in range(10):\n",
    "    print(i)"
   ]
  },
  {
   "cell_type": "code",
   "execution_count": 108,
   "id": "8f1a3171-ad9d-4fbe-ac3c-9989e583ae6b",
   "metadata": {},
   "outputs": [
    {
     "name": "stdout",
     "output_type": "stream",
     "text": [
      "H\n",
      "e\n",
      "l\n",
      "l\n",
      "o\n",
      " \n",
      "W\n",
      "o\n",
      "r\n",
      "l\n",
      "d\n"
     ]
    }
   ],
   "source": [
    "for i in \"Hello World\":\n",
    "    print(i)"
   ]
  },
  {
   "cell_type": "code",
   "execution_count": 114,
   "id": "02d658b7-3ee1-445e-8ca8-6b4c1ea553c4",
   "metadata": {},
   "outputs": [
    {
     "name": "stdin",
     "output_type": "stream",
     "text": [
      "Length: 20\n"
     ]
    },
    {
     "name": "stdout",
     "output_type": "stream",
     "text": [
      "&d1SR\"*6b7Vn;ZhEt'!G\n"
     ]
    }
   ],
   "source": [
    "from random import choice\n",
    "from string import ascii_letters, digits, punctuation\n",
    "\n",
    "characters = ascii_letters + digits + punctuation\n",
    "length = input(\"Length:\")\n",
    "length = int(length)\n",
    "\n",
    "password = \"\"\n",
    "for _ in range(length):\n",
    "    character = choice(characters)\n",
    "    password = password + character\n",
    "print(password)"
   ]
  },
  {
   "cell_type": "code",
   "execution_count": 1,
   "id": "5180a051-8df4-4ee7-85b9-9aa2eb59d95f",
   "metadata": {},
   "outputs": [
    {
     "name": "stdout",
     "output_type": "stream",
     "text": [
      "apple\n",
      "banana\n",
      "cherry\n"
     ]
    }
   ],
   "source": [
    "thislist = [\"apple\", \"banana\", \"cherry\"]\n",
    "for i in range(len(thislist)):\n",
    "  print(thislist[i])"
   ]
  },
  {
   "cell_type": "code",
   "execution_count": 3,
   "id": "66a39091-8683-4d30-bd55-73f9fb068df1",
   "metadata": {},
   "outputs": [
    {
     "name": "stdout",
     "output_type": "stream",
     "text": [
      "apple\n",
      "banana\n",
      "cherry\n"
     ]
    }
   ],
   "source": [
    "#Print all items, using a while loop to go through all the index numbers\n",
    "thislist = [\"apple\", \"banana\", \"cherry\"]\n",
    "i = 0\n",
    "while i < len(thislist):\n",
    "  print(thislist[i])\n",
    "  i = i + 1"
   ]
  },
  {
   "cell_type": "code",
   "execution_count": 5,
   "id": "8e981d3e-468c-4db2-a905-b3691693b7ea",
   "metadata": {},
   "outputs": [
    {
     "name": "stdout",
     "output_type": "stream",
     "text": [
      "apple\n",
      "banana\n",
      "cherry\n"
     ]
    },
    {
     "data": {
      "text/plain": [
       "[None, None, None]"
      ]
     },
     "execution_count": 5,
     "metadata": {},
     "output_type": "execute_result"
    }
   ],
   "source": [
    "#List Comprehension offers the shortest syntax for looping through lists:\n",
    "thislist = [\"apple\", \"banana\", \"cherry\"]\n",
    "[print(x) for x in thislist]"
   ]
  },
  {
   "cell_type": "code",
   "execution_count": 7,
   "id": "a6987d1a-e51f-4ee2-9bc1-d8b9c7ee0a2a",
   "metadata": {},
   "outputs": [
    {
     "name": "stdout",
     "output_type": "stream",
     "text": [
      "['apple', 'banana', 'mango']\n"
     ]
    }
   ],
   "source": [
    "fruits = [\"apple\", \"banana\", \"cherry\", \"kiwi\", \"mango\"]\n",
    "newlist = []\n",
    "\n",
    "for x in fruits:\n",
    "  if \"a\" in x:\n",
    "    newlist.append(x)\n",
    "\n",
    "print(newlist)"
   ]
  },
  {
   "cell_type": "code",
   "execution_count": 9,
   "id": "a7e04908-9360-487e-9f91-83bb20405c3e",
   "metadata": {},
   "outputs": [
    {
     "name": "stdout",
     "output_type": "stream",
     "text": [
      "['apple', 'banana', 'mango']\n"
     ]
    }
   ],
   "source": [
    "#OR\n",
    "fruits = [\"apple\", \"banana\", \"cherry\", \"kiwi\", \"mango\"]\n",
    "\n",
    "newlist = [x for x in fruits if \"a\" in x]\n",
    "\n",
    "print(newlist)"
   ]
  },
  {
   "cell_type": "code",
   "execution_count": 11,
   "id": "941cc270-ed7a-418a-86e4-e96ec4c33098",
   "metadata": {},
   "outputs": [
    {
     "name": "stdout",
     "output_type": "stream",
     "text": [
      "['banana', 'kiwi', 'mango', 'orange', 'pineapple']\n"
     ]
    }
   ],
   "source": [
    "thislist = [\"orange\", \"mango\", \"kiwi\", \"pineapple\", \"banana\"]\n",
    "thislist.sort()\n",
    "print(thislist)"
   ]
  },
  {
   "cell_type": "code",
   "execution_count": 13,
   "id": "aeb5965d-4b61-4d98-9515-dbcc709d214b",
   "metadata": {},
   "outputs": [
    {
     "name": "stdout",
     "output_type": "stream",
     "text": [
      "[100, 82, 65, 50, 23]\n"
     ]
    }
   ],
   "source": [
    "thislist = [100, 50, 65, 82, 23]\n",
    "thislist.sort(reverse = True)\n",
    "print(thislist)"
   ]
  },
  {
   "cell_type": "code",
   "execution_count": 15,
   "id": "54d9210a-6858-47e3-ad93-7504311c73d5",
   "metadata": {},
   "outputs": [
    {
     "name": "stdout",
     "output_type": "stream",
     "text": [
      "['a', 'b', 'c', 1, 2, 3]\n"
     ]
    }
   ],
   "source": [
    "#Join two Lists\n",
    "list1 = [\"a\", \"b\", \"c\"]\n",
    "list2 = [1, 2, 3]\n",
    "\n",
    "list3 = list1 + list2\n",
    "print(list3)"
   ]
  },
  {
   "cell_type": "code",
   "execution_count": 17,
   "id": "40f2b197-5b03-412c-8c72-c441b68f7f6d",
   "metadata": {},
   "outputs": [
    {
     "name": "stdout",
     "output_type": "stream",
     "text": [
      "['a', 'b', 'c', 1, 2, 3]\n"
     ]
    }
   ],
   "source": [
    "#Or\n",
    "list1 = [\"a\", \"b\" , \"c\"]\n",
    "list2 = [1, 2, 3]\n",
    "\n",
    "list1.extend(list2)\n",
    "print(list1)"
   ]
  },
  {
   "cell_type": "raw",
   "id": "49530c22-6764-4c51-b190-90b66df87c8e",
   "metadata": {},
   "source": [
    "Tuple"
   ]
  },
  {
   "cell_type": "code",
   "execution_count": 19,
   "id": "803cb337-a0ea-4f68-8a33-0a590b08acde",
   "metadata": {},
   "outputs": [
    {
     "name": "stdout",
     "output_type": "stream",
     "text": [
      "('apple', 'banana', 'cherry')\n"
     ]
    }
   ],
   "source": [
    "thistuple = (\"apple\", \"banana\", \"cherry\")\n",
    "print(thistuple)"
   ]
  },
  {
   "cell_type": "code",
   "execution_count": 23,
   "id": "30a1407b-6669-461a-950c-01d0c313e19e",
   "metadata": {},
   "outputs": [
    {
     "name": "stdout",
     "output_type": "stream",
     "text": [
      "<class 'tuple'>\n",
      "<class 'str'>\n"
     ]
    }
   ],
   "source": [
    "thistuple = (\"apple\",)\n",
    "print(type(thistuple))\n",
    "\n",
    "#NOT a tuple\n",
    "thistuple = (\"apple\")\n",
    "print(type(thistuple))"
   ]
  },
  {
   "cell_type": "code",
   "execution_count": 25,
   "id": "621cf75c-79fd-4486-944f-231796494cd0",
   "metadata": {},
   "outputs": [
    {
     "name": "stdout",
     "output_type": "stream",
     "text": [
      "('apple', 'banana', 'cherry')\n",
      "(1, 5, 7, 9, 3)\n",
      "(True, False, False)\n"
     ]
    }
   ],
   "source": [
    "tuple1 = (\"apple\", \"banana\", \"cherry\")\n",
    "tuple2 = (1, 5, 7, 9, 3)\n",
    "tuple3 = (True, False, False)\n",
    "\n",
    "print(tuple1)\n",
    "print(tuple2)\n",
    "print(tuple3)"
   ]
  },
  {
   "cell_type": "code",
   "execution_count": 27,
   "id": "4d024733-4176-44e7-8fbf-18443bb7030f",
   "metadata": {},
   "outputs": [
    {
     "name": "stdout",
     "output_type": "stream",
     "text": [
      "cherry\n"
     ]
    }
   ],
   "source": [
    "thistuple = (\"apple\", \"banana\", \"cherry\")\n",
    "print(thistuple[-1])"
   ]
  },
  {
   "cell_type": "code",
   "execution_count": 29,
   "id": "6b58537f-d68f-415f-beb0-62a0da2ae448",
   "metadata": {},
   "outputs": [
    {
     "name": "stdout",
     "output_type": "stream",
     "text": [
      "('cherry', 'orange', 'kiwi')\n"
     ]
    }
   ],
   "source": [
    "thistuple = (\"apple\", \"banana\", \"cherry\", \"orange\", \"kiwi\", \"melon\", \"mango\")\n",
    "print(thistuple[2:5])"
   ]
  },
  {
   "cell_type": "code",
   "execution_count": 31,
   "id": "3a0f38c9-136e-49f6-ae14-e43711b6cb82",
   "metadata": {},
   "outputs": [
    {
     "name": "stdout",
     "output_type": "stream",
     "text": [
      "('apple', 'kiwi', 'cherry')\n"
     ]
    }
   ],
   "source": [
    "x = (\"apple\", \"banana\", \"cherry\")\n",
    "y = list(x)\n",
    "y[1] = \"kiwi\"\n",
    "x = tuple(y)\n",
    "\n",
    "print(x)"
   ]
  },
  {
   "cell_type": "code",
   "execution_count": 35,
   "id": "70f9178e-c4e9-49e7-8278-101e456ed673",
   "metadata": {},
   "outputs": [
    {
     "name": "stdout",
     "output_type": "stream",
     "text": [
      "('apple', 'banana', 'cherry', 'orange')\n"
     ]
    }
   ],
   "source": [
    "thistuple = (\"apple\", \"banana\", \"cherry\")\n",
    "y = list(thistuple)\n",
    "y.append(\"orange\")\n",
    "thistuple = tuple(y)\n",
    "print(thistuple)"
   ]
  },
  {
   "cell_type": "code",
   "execution_count": 37,
   "id": "2b9dac1e-3d84-4952-9632-a6e3a96cafde",
   "metadata": {},
   "outputs": [],
   "source": [
    "thistuple = (\"apple\", \"banana\", \"cherry\")\n",
    "y = list(thistuple)\n",
    "y.remove(\"apple\")\n",
    "thistuple = tuple(y)"
   ]
  },
  {
   "cell_type": "code",
   "execution_count": 39,
   "id": "3aff5a80-61ef-4d15-aab6-668733bc2258",
   "metadata": {},
   "outputs": [
    {
     "name": "stdout",
     "output_type": "stream",
     "text": [
      "('banana', 'cherry')\n"
     ]
    }
   ],
   "source": [
    "print(thistuple)"
   ]
  },
  {
   "cell_type": "code",
   "execution_count": 41,
   "id": "fb247b87-f06f-4257-8741-ed43b4ca88b9",
   "metadata": {},
   "outputs": [
    {
     "ename": "NameError",
     "evalue": "name 'thistuple' is not defined",
     "output_type": "error",
     "traceback": [
      "\u001b[1;31m---------------------------------------------------------------------------\u001b[0m",
      "\u001b[1;31mNameError\u001b[0m                                 Traceback (most recent call last)",
      "Cell \u001b[1;32mIn[41], line 3\u001b[0m\n\u001b[0;32m      1\u001b[0m thistuple \u001b[38;5;241m=\u001b[39m (\u001b[38;5;124m\"\u001b[39m\u001b[38;5;124mapple\u001b[39m\u001b[38;5;124m\"\u001b[39m, \u001b[38;5;124m\"\u001b[39m\u001b[38;5;124mbanana\u001b[39m\u001b[38;5;124m\"\u001b[39m, \u001b[38;5;124m\"\u001b[39m\u001b[38;5;124mcherry\u001b[39m\u001b[38;5;124m\"\u001b[39m)\n\u001b[0;32m      2\u001b[0m \u001b[38;5;28;01mdel\u001b[39;00m thistuple\n\u001b[1;32m----> 3\u001b[0m \u001b[38;5;28mprint\u001b[39m(thistuple)\n",
      "\u001b[1;31mNameError\u001b[0m: name 'thistuple' is not defined"
     ]
    }
   ],
   "source": [
    "thistuple = (\"apple\", \"banana\", \"cherry\")\n",
    "del thistuple\n",
    "print(thistuple)"
   ]
  },
  {
   "cell_type": "code",
   "execution_count": 23,
   "id": "c97bcfff-2471-42fa-a1a8-819b581fc815",
   "metadata": {},
   "outputs": [
    {
     "name": "stdin",
     "output_type": "stream",
     "text": [
      "Enter a number:  5\n"
     ]
    },
    {
     "name": "stdout",
     "output_type": "stream",
     "text": [
      "Factorial (Recursive) of 5: 120\n"
     ]
    }
   ],
   "source": [
    "# Recursive approach\n",
    "def factorial_recursive(n):\n",
    "    if n == 0 or n == 1:\n",
    "        return 1\n",
    "    return n * factorial_recursive(n - 1)\n",
    "    # Taking user input\n",
    "num = int(input(\"Enter a number: \"))\n",
    "\n",
    "# Calculating factorial using both methods\n",
    "print(f\"Factorial (Recursive) of {num}: {factorial_recursive(num)}\")\n"
   ]
  },
  {
   "cell_type": "code",
   "execution_count": 27,
   "id": "29be8d0a-6c20-4bff-bcdc-f4c1664b3367",
   "metadata": {},
   "outputs": [
    {
     "name": "stdout",
     "output_type": "stream",
     "text": [
      "Factorial (Recursive) of 5: 120\n"
     ]
    }
   ],
   "source": [
    "# Iterative approach\n",
    "def factorial_iterative(n):\n",
    "    result = 1\n",
    "    for i in range(2, n + 1):\n",
    "        result *= i\n",
    "    return result\n",
    "    num = int(input(\"Enter a number: \"))\n",
    "\n",
    "# Calculating factorial using both methods\n",
    "print(f\"Factorial (Recursive) of {num}: {factorial_recursive(num)}\")\n",
    "\n",
    "    "
   ]
  },
  {
   "cell_type": "code",
   "execution_count": 51,
   "id": "ed9a3a49-dbb0-49fb-af6f-80e9e8400850",
   "metadata": {},
   "outputs": [
    {
     "name": "stdout",
     "output_type": "stream",
     "text": [
      "apple\n",
      "banana\n",
      "cherry\n"
     ]
    }
   ],
   "source": [
    "#Unpacking\n",
    "fruits = (\"apple\", \"banana\", \"cherry\")\n",
    "\n",
    "(green, yellow, red) = fruits\n",
    "\n",
    "print(green)\n",
    "print(yellow)\n",
    "print(red)"
   ]
  },
  {
   "cell_type": "code",
   "execution_count": 53,
   "id": "1a5ed365-dafe-4e3a-bd89-74aff04d518d",
   "metadata": {},
   "outputs": [
    {
     "name": "stdout",
     "output_type": "stream",
     "text": [
      "apple\n",
      "banana\n",
      "['cherry', 'strawberry', 'raspberry']\n"
     ]
    }
   ],
   "source": [
    "fruits = (\"apple\", \"banana\", \"cherry\", \"strawberry\", \"raspberry\")\n",
    "\n",
    "(green, yellow, *red) = fruits\n",
    "\n",
    "print(green)\n",
    "print(yellow)\n",
    "print(red)"
   ]
  },
  {
   "cell_type": "code",
   "execution_count": 55,
   "id": "c35778fb-777c-4d9b-b98f-a40951af2227",
   "metadata": {},
   "outputs": [
    {
     "name": "stdout",
     "output_type": "stream",
     "text": [
      "apple\n",
      "['mango', 'papaya', 'pineapple']\n",
      "cherry\n"
     ]
    }
   ],
   "source": [
    "fruits = (\"apple\", \"mango\", \"papaya\", \"pineapple\", \"cherry\")\n",
    "\n",
    "(green, *tropic, red) = fruits\n",
    "\n",
    "print(green)\n",
    "print(tropic)\n",
    "print(red)"
   ]
  },
  {
   "cell_type": "code",
   "execution_count": null,
   "id": "13e6b9ba-586b-46e2-8b33-d46eaf264f41",
   "metadata": {},
   "outputs": [],
   "source": [
    "#Loop Through a Tuple"
   ]
  },
  {
   "cell_type": "code",
   "execution_count": 57,
   "id": "e206bb55-8c32-4cfb-8177-de226dc20c75",
   "metadata": {},
   "outputs": [
    {
     "name": "stdout",
     "output_type": "stream",
     "text": [
      "apple\n",
      "banana\n",
      "cherry\n"
     ]
    }
   ],
   "source": [
    "thistuple = (\"apple\", \"banana\", \"cherry\")\n",
    "for x in thistuple:\n",
    "  print(x)"
   ]
  },
  {
   "cell_type": "code",
   "execution_count": 59,
   "id": "4ed8e022-f916-4737-baa5-7c2654308901",
   "metadata": {},
   "outputs": [
    {
     "name": "stdout",
     "output_type": "stream",
     "text": [
      "apple\n",
      "banana\n",
      "cherry\n"
     ]
    }
   ],
   "source": [
    "thistuple = (\"apple\", \"banana\", \"cherry\")\n",
    "for i in range(len(thistuple)):\n",
    "  print(thistuple[i])"
   ]
  },
  {
   "cell_type": "code",
   "execution_count": 61,
   "id": "261eac40-f180-4c38-87d7-50eb6ebf7253",
   "metadata": {},
   "outputs": [
    {
     "name": "stdout",
     "output_type": "stream",
     "text": [
      "apple\n",
      "banana\n",
      "cherry\n"
     ]
    }
   ],
   "source": [
    "thistuple = (\"apple\", \"banana\", \"cherry\")\n",
    "i = 0\n",
    "while i < len(thistuple):\n",
    "  print(thistuple[i])\n",
    "  i = i + 1"
   ]
  },
  {
   "cell_type": "code",
   "execution_count": 63,
   "id": "33f9d520-12ee-4a83-a765-49d35ad60519",
   "metadata": {},
   "outputs": [
    {
     "name": "stdout",
     "output_type": "stream",
     "text": [
      "('a', 'b', 'c', 1, 2, 3)\n"
     ]
    }
   ],
   "source": [
    "#Join two tuples:\n",
    "tuple1 = (\"a\", \"b\" , \"c\")\n",
    "tuple2 = (1, 2, 3)\n",
    "\n",
    "tuple3 = tuple1 + tuple2\n",
    "print(tuple3)"
   ]
  },
  {
   "cell_type": "code",
   "execution_count": 65,
   "id": "9b14309c-fab0-424e-8e52-c34bfa4b3812",
   "metadata": {},
   "outputs": [
    {
     "name": "stdout",
     "output_type": "stream",
     "text": [
      "('apple', 'banana', 'cherry', 'apple', 'banana', 'cherry')\n"
     ]
    }
   ],
   "source": [
    "#Multiply the fruits tuple by 2:\n",
    "fruits = (\"apple\", \"banana\", \"cherry\")\n",
    "mytuple = fruits * 2\n",
    "\n",
    "print(mytuple)"
   ]
  },
  {
   "cell_type": "code",
   "execution_count": 67,
   "id": "c7b230b5-d712-4960-8a33-0a9fe1f841b8",
   "metadata": {},
   "outputs": [
    {
     "name": "stdout",
     "output_type": "stream",
     "text": [
      "2\n"
     ]
    }
   ],
   "source": [
    "thistuple = (1, 3, 7, 8, 7, 5, 4, 6, 8, 5)\n",
    "\n",
    "x = thistuple.count(5)\n",
    "\n",
    "print(x)"
   ]
  },
  {
   "cell_type": "code",
   "execution_count": 69,
   "id": "e3fe688b-f3da-4a90-bda2-d5957a7c1626",
   "metadata": {},
   "outputs": [
    {
     "name": "stdout",
     "output_type": "stream",
     "text": [
      "3\n"
     ]
    }
   ],
   "source": [
    "thistuple = (1, 3, 7, 8, 7, 5, 4, 6, 8, 5)\n",
    "\n",
    "x = thistuple.index(8)\n",
    "\n",
    "print(x)"
   ]
  },
  {
   "cell_type": "code",
   "execution_count": 3,
   "id": "a0766ee1-596e-4938-928c-0a10a243a41f",
   "metadata": {},
   "outputs": [
    {
     "name": "stdout",
     "output_type": "stream",
     "text": [
      "25\n"
     ]
    }
   ],
   "source": [
    "def square(x):\n",
    "    return x*x\n",
    "result=square(5)\n",
    "print(result)"
   ]
  },
  {
   "cell_type": "code",
   "execution_count": 13,
   "id": "c6110d41-2e26-4f02-aba4-46a975f4107a",
   "metadata": {},
   "outputs": [
    {
     "name": "stdin",
     "output_type": "stream",
     "text": [
      "Text or secret:  Uryyb\n"
     ]
    },
    {
     "name": "stdout",
     "output_type": "stream",
     "text": [
      "Hello\n"
     ]
    }
   ],
   "source": [
    "from requests import get\n",
    "response = get('https://alvinwan.com/coding101/cipher.json')\n",
    "mapping = response.json()\n",
    "\n",
    "def cipher(original):\n",
    "    text = \"\"\n",
    "    for letter in original:\n",
    "        new_letter = mapping[letter]\n",
    "        text = text + new_letter\n",
    "    return text\n",
    "text = input(\"Text or secret: \")\n",
    "result = cipher(text)\n",
    "print(result)"
   ]
  },
  {
   "cell_type": "code",
   "execution_count": 29,
   "id": "7e437000-39f8-4370-8565-b9553ed96aa3",
   "metadata": {},
   "outputs": [
    {
     "name": "stdin",
     "output_type": "stream",
     "text": [
      "Enter a Number:  6\n"
     ]
    },
    {
     "name": "stdout",
     "output_type": "stream",
     "text": [
      "18\n"
     ]
    }
   ],
   "source": [
    "def mul3(x):\n",
    "    return x*3\n",
    "\n",
    "x= int(input(\"Enter a Number: \"))\n",
    "result = mul3(x)\n",
    "print(result)\n",
    " "
   ]
  },
  {
   "cell_type": "code",
   "execution_count": 31,
   "id": "c6d5bcf1-8e98-499f-bf18-48fca23ee95d",
   "metadata": {},
   "outputs": [
    {
     "name": "stdin",
     "output_type": "stream",
     "text": [
      "Enter a Number:  9\n"
     ]
    },
    {
     "name": "stdout",
     "output_type": "stream",
     "text": [
      "6\n"
     ]
    }
   ],
   "source": [
    "def sub3(x):\n",
    "    return x -3\n",
    "\n",
    "x= int(input(\"Enter a Number: \"))\n",
    "result = sub3(x)\n",
    "print(result)"
   ]
  },
  {
   "cell_type": "code",
   "execution_count": 37,
   "id": "c774bcda-c65e-4f0e-b216-0e6f59d97f71",
   "metadata": {},
   "outputs": [
    {
     "name": "stdin",
     "output_type": "stream",
     "text": [
      "Enter a Number:  2\n",
      "Enter a Number:  5\n"
     ]
    },
    {
     "name": "stdout",
     "output_type": "stream",
     "text": [
      "10\n"
     ]
    }
   ],
   "source": [
    "def sub3(x,y):\n",
    "    return x * y\n",
    "\n",
    "x= int(input(\"Enter a Number: \"))\n",
    "y= int(input(\"Enter a Number: \"))\n",
    "result = sub3(x,y)\n",
    "print(result)"
   ]
  },
  {
   "cell_type": "code",
   "execution_count": 55,
   "id": "8bcbbefc-8520-4030-a6ff-63313a5ff642",
   "metadata": {},
   "outputs": [
    {
     "name": "stdin",
     "output_type": "stream",
     "text": [
      "Enter a Number:  2\n"
     ]
    },
    {
     "name": "stdout",
     "output_type": "stream",
     "text": [
      "x is lesser than 3\n",
      "None\n"
     ]
    }
   ],
   "source": [
    "def gt3(x):\n",
    "    if x > 3:\n",
    "        print(\"x is greater than 3\")\n",
    "    else:\n",
    "        print(\"x is lesser than 3\")\n",
    "x= int(input(\"Enter a Number: \"))\n",
    "result = gt3(x)\n",
    "print(result)"
   ]
  },
  {
   "cell_type": "code",
   "execution_count": 71,
   "id": "ecbd905d-5a9f-43a1-baef-efd5f2f1586a",
   "metadata": {},
   "outputs": [
    {
     "name": "stdout",
     "output_type": "stream",
     "text": [
      "True\n"
     ]
    }
   ],
   "source": [
    "def both_gt_3(x, y):\n",
    "    if x > 3 or y > 3:\n",
    "        return x > 3 or y > 3\n",
    "result = both_gt_3(5 , 2)\n",
    "print(result)\n"
   ]
  },
  {
   "cell_type": "code",
   "execution_count": 77,
   "id": "57f13d0e-81e3-4e94-98cd-a7119b480527",
   "metadata": {},
   "outputs": [
    {
     "name": "stdout",
     "output_type": "stream",
     "text": [
      "18\n"
     ]
    }
   ],
   "source": [
    "def sum3(x):\n",
    "    return sum(x) * 3\n",
    "result = sum3([1,2,3])\n",
    "print(result)"
   ]
  },
  {
   "cell_type": "code",
   "execution_count": 83,
   "id": "e3fd65d7-7dc5-4900-a56e-a853c7f88646",
   "metadata": {},
   "outputs": [
    {
     "name": "stdout",
     "output_type": "stream",
     "text": [
      "6\n"
     ]
    }
   ],
   "source": [
    "def sum3(x):\n",
    "    return sum(x.values())\n",
    "result = sum3({\"a\":1,\"b\":2,\"C\":3})\n",
    "print(result)"
   ]
  },
  {
   "cell_type": "code",
   "execution_count": 115,
   "id": "552aae4f-6a79-4e6e-a4ab-e9a83ff94816",
   "metadata": {},
   "outputs": [
    {
     "name": "stdout",
     "output_type": "stream",
     "text": [
      "True\n"
     ]
    }
   ],
   "source": [
    "def sum3(x):\n",
    "    return x[\"jack\"] == 1\n",
    "    \n",
    "result = sum3({\"jack\":1,\"b\":2,\"C\":3})\n",
    "print(result)"
   ]
  },
  {
   "cell_type": "code",
   "execution_count": 117,
   "id": "c96dc420-92c9-4ef5-9c16-3d8dd27b2abc",
   "metadata": {},
   "outputs": [
    {
     "name": "stdout",
     "output_type": "stream",
     "text": [
      "Yes\n",
      "None\n"
     ]
    }
   ],
   "source": [
    "def sum3(x):\n",
    "    if x[\"jack\"] == 1:\n",
    "        print(\"Yes\")\n",
    "    \n",
    "result = sum3({\"jack\":1,\"b\":2,\"C\":3})\n",
    "print(result)"
   ]
  },
  {
   "cell_type": "code",
   "execution_count": 119,
   "id": "9be63906-2175-4866-ab6e-9331c4e89749",
   "metadata": {},
   "outputs": [
    {
     "name": "stdout",
     "output_type": "stream",
     "text": [
      "4\n"
     ]
    }
   ],
   "source": [
    "def sum3(x):\n",
    "    return x[\"jack\"] + 3\n",
    "    \n",
    "result = sum3({\"jack\":1,\"b\":2,\"C\":3})\n",
    "print(result)"
   ]
  },
  {
   "cell_type": "code",
   "execution_count": null,
   "id": "36395524-fddd-4673-80b2-23f69894ccb0",
   "metadata": {},
   "outputs": [],
   "source": []
  }
 ],
 "metadata": {
  "kernelspec": {
   "display_name": "Python [conda env:base] *",
   "language": "python",
   "name": "conda-base-py"
  },
  "language_info": {
   "codemirror_mode": {
    "name": "ipython",
    "version": 3
   },
   "file_extension": ".py",
   "mimetype": "text/x-python",
   "name": "python",
   "nbconvert_exporter": "python",
   "pygments_lexer": "ipython3",
   "version": "3.12.7"
  }
 },
 "nbformat": 4,
 "nbformat_minor": 5
}
